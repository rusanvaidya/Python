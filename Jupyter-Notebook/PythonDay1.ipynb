{
 "cells": [
  {
   "cell_type": "markdown",
   "id": "eastern-costs",
   "metadata": {},
   "source": [
    "<h2><u>Contents</u></h2>\n",
    "<ul>\n",
    "    <li>Data Types</li>\n",
    "    <li>Format</li>\n",
    "    <li>List</li>\n",
    "    <li>Set</li>\n",
    "    <li>Tuple</li>\n",
    "</ul>"
   ]
  },
  {
   "cell_type": "code",
   "execution_count": 8,
   "id": "useful-envelope",
   "metadata": {},
   "outputs": [
    {
     "name": "stdout",
     "output_type": "stream",
     "text": [
      "apple\n",
      "b'hello'\n"
     ]
    }
   ],
   "source": [
    "a = ('apple', 'ball', 'cat')\n",
    "a = list(a)\n",
    "b = list(('dog', 'eagle'))\n",
    "a.append(b)\n",
    "print((a[0]))\n",
    "q = b\"hello\"\n",
    "print(q)"
   ]
  },
  {
   "cell_type": "code",
   "execution_count": 2,
   "id": "informal-wallace",
   "metadata": {},
   "outputs": [],
   "source": [
    "arr = bytearray(5)"
   ]
  },
  {
   "cell_type": "code",
   "execution_count": 3,
   "id": "first-subsection",
   "metadata": {},
   "outputs": [
    {
     "data": {
      "text/plain": [
       "bytearray(b'\\x00\\x00\\x00\\x00\\x00')"
      ]
     },
     "execution_count": 3,
     "metadata": {},
     "output_type": "execute_result"
    }
   ],
   "source": [
    "arr"
   ]
  },
  {
   "cell_type": "code",
   "execution_count": 4,
   "id": "narrative-recommendation",
   "metadata": {},
   "outputs": [
    {
     "data": {
      "text/plain": [
       "<memory at 0x7f6711322340>"
      ]
     },
     "execution_count": 4,
     "metadata": {},
     "output_type": "execute_result"
    }
   ],
   "source": [
    "memoryview(arr)"
   ]
  },
  {
   "cell_type": "code",
   "execution_count": 5,
   "id": "damaged-township",
   "metadata": {},
   "outputs": [
    {
     "data": {
      "text/plain": [
       "<memory at 0x7ff6405e0e80>"
      ]
     },
     "execution_count": 5,
     "metadata": {},
     "output_type": "execute_result"
    }
   ],
   "source": [
    "a1 = b\"hello\"\n",
    "memoryview(a1)"
   ]
  },
  {
   "cell_type": "code",
   "execution_count": 6,
   "id": "split-diagram",
   "metadata": {},
   "outputs": [],
   "source": [
    "import random \n",
    "\n",
    "num = random.randrange(1,10)"
   ]
  },
  {
   "cell_type": "code",
   "execution_count": 7,
   "id": "registered-punch",
   "metadata": {},
   "outputs": [
    {
     "data": {
      "text/plain": [
       "'jpg'"
      ]
     },
     "execution_count": 7,
     "metadata": {},
     "output_type": "execute_result"
    }
   ],
   "source": [
    "c = 'Kathmandu.jpg'\n",
    "c[-3:]"
   ]
  },
  {
   "cell_type": "code",
   "execution_count": 2,
   "id": "spanish-survivor",
   "metadata": {},
   "outputs": [
    {
     "data": {
      "text/plain": [
       "['hello', 'ram']"
      ]
     },
     "execution_count": 2,
     "metadata": {},
     "output_type": "execute_result"
    }
   ],
   "source": [
    "c1 = \" hello ram \"\n",
    "c1.split()\n",
    "# splits into strings and makes a list"
   ]
  },
  {
   "cell_type": "code",
   "execution_count": 3,
   "id": "metric-organic",
   "metadata": {},
   "outputs": [
    {
     "data": {
      "text/plain": [
       "'hello ram'"
      ]
     },
     "execution_count": 3,
     "metadata": {},
     "output_type": "execute_result"
    }
   ],
   "source": [
    "c1.strip()\n",
    "# strip of whitespace from front and back"
   ]
  },
  {
   "cell_type": "code",
   "execution_count": 5,
   "id": "buried-aluminum",
   "metadata": {},
   "outputs": [
    {
     "data": {
      "text/plain": [
       "'he22o ram'"
      ]
     },
     "execution_count": 5,
     "metadata": {},
     "output_type": "execute_result"
    }
   ],
   "source": [
    "c1.replace('l','2').strip()"
   ]
  },
  {
   "cell_type": "code",
   "execution_count": 11,
   "id": "cubic-nevada",
   "metadata": {},
   "outputs": [
    {
     "name": "stdout",
     "output_type": "stream",
     "text": [
      "Ram's age is 32.\n"
     ]
    }
   ],
   "source": [
    "age = 32\n",
    "print(f'Ram\\'s age is {age}.')"
   ]
  },
  {
   "cell_type": "code",
   "execution_count": 12,
   "id": "brief-witch",
   "metadata": {},
   "outputs": [
    {
     "name": "stdout",
     "output_type": "stream",
     "text": [
      "12\\23\\2021\n"
     ]
    }
   ],
   "source": [
    "print('12\\\\23\\\\2021')"
   ]
  },
  {
   "cell_type": "code",
   "execution_count": 13,
   "id": "south-glucose",
   "metadata": {},
   "outputs": [
    {
     "name": "stdout",
     "output_type": "stream",
     "text": [
      "hello \bworld\n"
     ]
    }
   ],
   "source": [
    "print('hello \\bworld')"
   ]
  },
  {
   "cell_type": "code",
   "execution_count": 14,
   "id": "productive-recycling",
   "metadata": {},
   "outputs": [
    {
     "name": "stdout",
     "output_type": "stream",
     "text": [
      "Rusan\n"
     ]
    }
   ],
   "source": [
    "# octat value\n",
    "print('\\122\\165\\163\\141\\156')"
   ]
  },
  {
   "cell_type": "code",
   "execution_count": 15,
   "id": "suburban-elephant",
   "metadata": {},
   "outputs": [
    {
     "name": "stdout",
     "output_type": "stream",
     "text": [
      "Rusa\n"
     ]
    }
   ],
   "source": [
    "# hex value\n",
    "print('\\x52\\x75\\x73\\x61')"
   ]
  },
  {
   "cell_type": "code",
   "execution_count": 2,
   "id": "dependent-characterization",
   "metadata": {},
   "outputs": [],
   "source": [
    "c2 = 'ram'"
   ]
  },
  {
   "cell_type": "code",
   "execution_count": 3,
   "id": "middle-group",
   "metadata": {},
   "outputs": [],
   "source": [
    "x = c2.capitalize()"
   ]
  },
  {
   "cell_type": "code",
   "execution_count": 4,
   "id": "aggressive-regression",
   "metadata": {},
   "outputs": [
    {
     "data": {
      "text/plain": [
       "'Ram'"
      ]
     },
     "execution_count": 4,
     "metadata": {},
     "output_type": "execute_result"
    }
   ],
   "source": [
    "x"
   ]
  },
  {
   "cell_type": "code",
   "execution_count": 5,
   "id": "ecological-thursday",
   "metadata": {},
   "outputs": [
    {
     "data": {
      "text/plain": [
       "'ram'"
      ]
     },
     "execution_count": 5,
     "metadata": {},
     "output_type": "execute_result"
    }
   ],
   "source": [
    "x.casefold() #converts into lower case"
   ]
  },
  {
   "cell_type": "code",
   "execution_count": 6,
   "id": "passive-sender",
   "metadata": {},
   "outputs": [
    {
     "data": {
      "text/plain": [
       "'Ubuntu'"
      ]
     },
     "execution_count": 6,
     "metadata": {},
     "output_type": "execute_result"
    }
   ],
   "source": [
    "x1 = \"Ubuntu\"\n",
    "x1.center(2, '_')"
   ]
  },
  {
   "cell_type": "code",
   "execution_count": 7,
   "id": "reverse-tiger",
   "metadata": {},
   "outputs": [
    {
     "name": "stdout",
     "output_type": "stream",
     "text": [
      "b'My name is Rus\\\\xe5n'\n"
     ]
    }
   ],
   "source": [
    "txt = \"My name is Rusån\"\n",
    "\n",
    "x = txt.encode(encoding='ascii', errors='backslashreplace')\n",
    "\n",
    "print(x)"
   ]
  },
  {
   "cell_type": "code",
   "execution_count": 8,
   "id": "unlikely-radius",
   "metadata": {},
   "outputs": [
    {
     "name": "stdout",
     "output_type": "stream",
     "text": [
      "True\n",
      "True\n"
     ]
    }
   ],
   "source": [
    "print(x1.endswith('u'))\n",
    "print(x1.startswith('U'))"
   ]
  },
  {
   "cell_type": "code",
   "execution_count": 9,
   "id": "careful-weapon",
   "metadata": {},
   "outputs": [
    {
     "data": {
      "text/plain": [
       "'Ubuntu'"
      ]
     },
     "execution_count": 9,
     "metadata": {},
     "output_type": "execute_result"
    }
   ],
   "source": [
    "x1.expandtabs(21)"
   ]
  },
  {
   "cell_type": "code",
   "execution_count": 8,
   "id": "parental-serial",
   "metadata": {},
   "outputs": [
    {
     "name": "stdout",
     "output_type": "stream",
     "text": [
      ".jpg\n",
      ".png\n",
      ".jpeg\n",
      ".mp4\n"
     ]
    }
   ],
   "source": [
    "channellist = ['Kathmandu.jpg', 'Lalitpur.png', 'Bhaktapur.jpeg', 'Kirtipur.mp4']\n",
    "for i in channellist:\n",
    "    place = i.find('.')\n",
    "    print(i[place:])"
   ]
  },
  {
   "cell_type": "code",
   "execution_count": 11,
   "id": "palestinian-award",
   "metadata": {},
   "outputs": [
    {
     "name": "stdout",
     "output_type": "stream",
     "text": [
      "Price : 32.12\n"
     ]
    }
   ],
   "source": [
    "print('Price : {amount:.2f}'.format(amount=32.1212))"
   ]
  },
  {
   "cell_type": "code",
   "execution_count": 12,
   "id": "amateur-refund",
   "metadata": {},
   "outputs": [
    {
     "name": "stdout",
     "output_type": "stream",
     "text": [
      "He has 32.1212    money in his pocket\n",
      "He has    32.1212 money in his pocket\n",
      "He has  32.1212   money in his pocket\n",
      "He has    32.1212 money in his pocket\n"
     ]
    }
   ],
   "source": [
    "print('He has {amount:<10} money in his pocket'.format(amount=32.1212))\n",
    "print('He has {amount:>10} money in his pocket'.format(amount=32.1212))\n",
    "print('He has {amount:^10} money in his pocket'.format(amount=32.1212))\n",
    "print('He has {amount:=10} money in his pocket'.format(amount=32.1212))\n",
    "\n",
    "# notice space between"
   ]
  },
  {
   "cell_type": "code",
   "execution_count": 13,
   "id": "intense-whale",
   "metadata": {},
   "outputs": [
    {
     "name": "stdout",
     "output_type": "stream",
     "text": [
      "Take the range from -3 to +3\n",
      "Take the range from -3 to 3\n"
     ]
    }
   ],
   "source": [
    "print('Take the range from {:+} to {:+}'.format(-3, 3)) # :+ specifies both signs \n",
    "print('Take the range from {:-} to {:-}'.format(-3, 3)) # :- specifies negative signs"
   ]
  },
  {
   "cell_type": "code",
   "execution_count": 14,
   "id": "mechanical-outdoors",
   "metadata": {},
   "outputs": [
    {
     "name": "stdout",
     "output_type": "stream",
     "text": [
      "Today's weather forecast is about -10.12 deg Celsius.\n"
     ]
    }
   ],
   "source": [
    "print('Today\\'s weather forecast is about {:} deg Celsius.'.format(-10.12))\n",
    "# Use a space to insert an extra space before positive numbers (and a minus sign befor negative numbers)"
   ]
  },
  {
   "cell_type": "code",
   "execution_count": 15,
   "id": "built-freight",
   "metadata": {},
   "outputs": [
    {
     "name": "stdout",
     "output_type": "stream",
     "text": [
      "He has about Rs.100,000,000 money in his bank account\n",
      "He has about Rs.100_000_000 money in his bank account\n"
     ]
    }
   ],
   "source": [
    "print('He has about Rs.{:,} money in his bank account'.format(100000000))\n",
    "# thousand separater\n",
    "print('He has about Rs.{:_} money in his bank account'.format(100000000))"
   ]
  },
  {
   "cell_type": "code",
   "execution_count": 1,
   "id": "noted-parts",
   "metadata": {},
   "outputs": [
    {
     "name": "stdout",
     "output_type": "stream",
     "text": [
      "9: 1001\n"
     ]
    }
   ],
   "source": [
    "print('{0}: {0:b}'.format(9))\n",
    "# prints binary value of a number"
   ]
  },
  {
   "cell_type": "code",
   "execution_count": 17,
   "id": "chinese-disability",
   "metadata": {},
   "outputs": [
    {
     "name": "stdout",
     "output_type": "stream",
     "text": [
      "97: a\n"
     ]
    }
   ],
   "source": [
    "print('{0}: {0:c}'.format(97))\n",
    "# prints unicode value "
   ]
  },
  {
   "cell_type": "code",
   "execution_count": 18,
   "id": "simplified-locator",
   "metadata": {},
   "outputs": [
    {
     "name": "stdout",
     "output_type": "stream",
     "text": [
      "97\n"
     ]
    }
   ],
   "source": [
    "print('{:d}'.format(97))"
   ]
  },
  {
   "cell_type": "code",
   "execution_count": 19,
   "id": "arabic-trustee",
   "metadata": {},
   "outputs": [
    {
     "name": "stdout",
     "output_type": "stream",
     "text": [
      "1.000000e+11\n"
     ]
    }
   ],
   "source": [
    "print('{:e}'.format(100000000000))"
   ]
  },
  {
   "cell_type": "code",
   "execution_count": 20,
   "id": "seventh-fortune",
   "metadata": {},
   "outputs": [
    {
     "name": "stdout",
     "output_type": "stream",
     "text": [
      "1.000000E+11\n"
     ]
    }
   ],
   "source": [
    "print('{:E}'.format(100000000000))"
   ]
  },
  {
   "cell_type": "code",
   "execution_count": 21,
   "id": "cordless-distinction",
   "metadata": {},
   "outputs": [
    {
     "name": "stdout",
     "output_type": "stream",
     "text": [
      "100000000000.000000000000000000000000000000000000000000000\n"
     ]
    }
   ],
   "source": [
    "print('{:.45f}'.format(100000000000))"
   ]
  },
  {
   "cell_type": "code",
   "execution_count": 22,
   "id": "indie-basis",
   "metadata": {},
   "outputs": [
    {
     "name": "stdout",
     "output_type": "stream",
     "text": [
      "100000000000.00\n"
     ]
    }
   ],
   "source": [
    "print('{:.2F}'.format(100000000000))"
   ]
  },
  {
   "cell_type": "code",
   "execution_count": 23,
   "id": "subjective-helena",
   "metadata": {},
   "outputs": [
    {
     "name": "stdout",
     "output_type": "stream",
     "text": [
      "1e+11\n",
      "1E+11\n"
     ]
    }
   ],
   "source": [
    "print('{:g}'.format(100000000000))\n",
    "print('{:G}'.format(100000000000))\n",
    "# same as :E,:e"
   ]
  },
  {
   "cell_type": "code",
   "execution_count": 7,
   "id": "advised-travel",
   "metadata": {},
   "outputs": [
    {
     "name": "stdout",
     "output_type": "stream",
     "text": [
      "240 : 360\n"
     ]
    }
   ],
   "source": [
    "print('{0} : {0:o}'.format(240))\n",
    "# octal value"
   ]
  },
  {
   "cell_type": "code",
   "execution_count": 25,
   "id": "psychological-manhattan",
   "metadata": {
    "scrolled": true
   },
   "outputs": [
    {
     "name": "stdout",
     "output_type": "stream",
     "text": [
      "10 : a\n",
      "10 : A\n"
     ]
    }
   ],
   "source": [
    "print('{0} : {0:x}'.format(10))\n",
    "print('{0} : {0:X}'.format(10))\n",
    "# hex value"
   ]
  },
  {
   "cell_type": "code",
   "execution_count": 26,
   "id": "rural-authority",
   "metadata": {},
   "outputs": [
    {
     "name": "stdout",
     "output_type": "stream",
     "text": [
      "1254\n"
     ]
    }
   ],
   "source": [
    "print('{0:n}'.format(1254))"
   ]
  },
  {
   "cell_type": "code",
   "execution_count": 27,
   "id": "incident-cream",
   "metadata": {},
   "outputs": [
    {
     "name": "stdout",
     "output_type": "stream",
     "text": [
      "45.333300%\n"
     ]
    }
   ],
   "source": [
    "print('{0:%}'.format(0.453333))"
   ]
  },
  {
   "cell_type": "code",
   "execution_count": 28,
   "id": "patent-economy",
   "metadata": {},
   "outputs": [
    {
     "name": "stdout",
     "output_type": "stream",
     "text": [
      "Ram lives in Kathmandu\n"
     ]
    }
   ],
   "source": [
    "dict1 = {'a':'Ram', 'b':'Kathmandu'}\n",
    "print('{a} lives in {b}'.format_map(dict1))"
   ]
  },
  {
   "cell_type": "code",
   "execution_count": 29,
   "id": "alpine-adventure",
   "metadata": {},
   "outputs": [
    {
     "ename": "NameError",
     "evalue": "name 'a' is not defined",
     "output_type": "error",
     "traceback": [
      "\u001b[0;31m---------------------------------------------------------------------------\u001b[0m",
      "\u001b[0;31mNameError\u001b[0m                                 Traceback (most recent call last)",
      "\u001b[0;32m<ipython-input-29-149be96e0d58>\u001b[0m in \u001b[0;36m<module>\u001b[0;34m\u001b[0m\n\u001b[0;32m----> 1\u001b[0;31m \u001b[0mind\u001b[0m \u001b[0;34m=\u001b[0m \u001b[0ma\u001b[0m\u001b[0;34m.\u001b[0m\u001b[0mindex\u001b[0m\u001b[0;34m(\u001b[0m\u001b[0;34m'ball'\u001b[0m\u001b[0;34m)\u001b[0m\u001b[0;34m\u001b[0m\u001b[0;34m\u001b[0m\u001b[0m\n\u001b[0m\u001b[1;32m      2\u001b[0m \u001b[0mind\u001b[0m\u001b[0;34m\u001b[0m\u001b[0;34m\u001b[0m\u001b[0m\n",
      "\u001b[0;31mNameError\u001b[0m: name 'a' is not defined"
     ]
    }
   ],
   "source": [
    "ind = a.index('ball')\n",
    "ind"
   ]
  },
  {
   "cell_type": "markdown",
   "id": "polyphonic-custom",
   "metadata": {},
   "source": [
    "<pre>\n",
    "isalpha()\t     Returns True if all characters in the string are in the alphabet\n",
    "isdecimal()\t   Returns True if all characters in the string are decimals\n",
    "isdigit()\t     Returns True if all characters in the string are digits\n",
    "isidentifier()    Returns True if the string is an identifier\n",
    "islower()\t     Returns True if all characters in the string are lower case\n",
    "isnumeric()\t   Returns True if all characters in the string are numeric\n",
    "isprintable()     Returns True if all characters in the string are printable\n",
    "isspace()\t     Returns True if all characters in the string are whitespaces\n",
    "istitle()\t     Returns True if the string follows the rules of a title\n",
    "isupper()\t     Returns True if all characters in the string are upper case\n",
    "</pre>"
   ]
  },
  {
   "cell_type": "code",
   "execution_count": 30,
   "id": "preceding-dream",
   "metadata": {},
   "outputs": [
    {
     "data": {
      "text/plain": [
       "True"
      ]
     },
     "execution_count": 30,
     "metadata": {},
     "output_type": "execute_result"
    }
   ],
   "source": [
    "# a100 = 'rusan123' --> True\n",
    "# a100 = 'rusan'  -->True\n",
    "a100 = '122'  #-->True\n",
    "# a100 = '122--122' --> False\n",
    "# a100 = 'rusan 123'--> False\n",
    "a100.isalnum()"
   ]
  },
  {
   "cell_type": "code",
   "execution_count": 31,
   "id": "green-gazette",
   "metadata": {},
   "outputs": [
    {
     "data": {
      "text/plain": [
       "False"
      ]
     },
     "execution_count": 31,
     "metadata": {},
     "output_type": "execute_result"
    }
   ],
   "source": [
    "a100.isalpha()"
   ]
  },
  {
   "cell_type": "code",
   "execution_count": 32,
   "id": "incorrect-nirvana",
   "metadata": {},
   "outputs": [
    {
     "data": {
      "text/plain": [
       "True"
      ]
     },
     "execution_count": 32,
     "metadata": {},
     "output_type": "execute_result"
    }
   ],
   "source": [
    "a100.isdecimal()"
   ]
  },
  {
   "cell_type": "code",
   "execution_count": 33,
   "id": "quality-treaty",
   "metadata": {},
   "outputs": [
    {
     "data": {
      "text/plain": [
       "True"
      ]
     },
     "execution_count": 33,
     "metadata": {},
     "output_type": "execute_result"
    }
   ],
   "source": [
    "a100.isdigit()"
   ]
  },
  {
   "cell_type": "code",
   "execution_count": 34,
   "id": "living-greek",
   "metadata": {},
   "outputs": [
    {
     "data": {
      "text/plain": [
       "False"
      ]
     },
     "execution_count": 34,
     "metadata": {},
     "output_type": "execute_result"
    }
   ],
   "source": [
    "a100.isidentifier()"
   ]
  },
  {
   "cell_type": "code",
   "execution_count": 35,
   "id": "civilian-state",
   "metadata": {},
   "outputs": [
    {
     "data": {
      "text/plain": [
       "True"
      ]
     },
     "execution_count": 35,
     "metadata": {},
     "output_type": "execute_result"
    }
   ],
   "source": [
    "a100.isprintable()"
   ]
  },
  {
   "cell_type": "code",
   "execution_count": 9,
   "id": "bizarre-manufacturer",
   "metadata": {},
   "outputs": [
    {
     "data": {
      "text/plain": [
       "tuple"
      ]
     },
     "execution_count": 9,
     "metadata": {},
     "output_type": "execute_result"
    }
   ],
   "source": [
    "atup = tuple(a)\n",
    "type(atup)\n",
    "# list_a = a.remove(['dog', 'eagle'])\n",
    "# print(a)"
   ]
  },
  {
   "cell_type": "code",
   "execution_count": 10,
   "id": "according-weekend",
   "metadata": {},
   "outputs": [
    {
     "ename": "TypeError",
     "evalue": "sequence item 3: expected str instance, list found",
     "output_type": "error",
     "traceback": [
      "\u001b[0;31m---------------------------------------------------------------------------\u001b[0m",
      "\u001b[0;31mTypeError\u001b[0m                                 Traceback (most recent call last)",
      "\u001b[0;32m<ipython-input-10-4f7bea297e24>\u001b[0m in \u001b[0;36m<module>\u001b[0;34m\u001b[0m\n\u001b[0;32m----> 1\u001b[0;31m \u001b[0ma_new\u001b[0m \u001b[0;34m=\u001b[0m \u001b[0;34m'.'\u001b[0m\u001b[0;34m.\u001b[0m\u001b[0mjoin\u001b[0m\u001b[0;34m(\u001b[0m\u001b[0matup\u001b[0m\u001b[0;34m)\u001b[0m\u001b[0;34m\u001b[0m\u001b[0;34m\u001b[0m\u001b[0m\n\u001b[0m\u001b[1;32m      2\u001b[0m \u001b[0ma_new\u001b[0m\u001b[0;34m\u001b[0m\u001b[0;34m\u001b[0m\u001b[0m\n",
      "\u001b[0;31mTypeError\u001b[0m: sequence item 3: expected str instance, list found"
     ]
    }
   ],
   "source": [
    "a_new = '.'.join(atup)\n",
    "a_new"
   ]
  },
  {
   "cell_type": "code",
   "execution_count": 38,
   "id": "statewide-calvin",
   "metadata": {},
   "outputs": [
    {
     "name": "stdout",
     "output_type": "stream",
     "text": [
      "Kathmanduuuuuuuuuuuuuuuuu sahara herda lagcha rahara\n"
     ]
    }
   ],
   "source": [
    "x_old = \"Kathmandu\"\n",
    "x_new = x_old.ljust(25, 'u')\n",
    "print(x_new ,\"sahara herda lagcha rahara\")\n",
    "# left adjust"
   ]
  },
  {
   "cell_type": "code",
   "execution_count": 12,
   "id": "alike-beginning",
   "metadata": {},
   "outputs": [
    {
     "name": "stdout",
     "output_type": "stream",
     "text": [
      "Kathmandu                 sahara herda lagcha rahara\n"
     ]
    }
   ],
   "source": [
    "x_old = \"                      Kathmandu                \"\n",
    "x_new = x_old.lstrip()\n",
    "print(x_new ,\"sahara herda lagcha rahara\")\n",
    "# left strip"
   ]
  },
  {
   "cell_type": "code",
   "execution_count": 13,
   "id": "located-rolling",
   "metadata": {},
   "outputs": [
    {
     "name": "stdout",
     "output_type": "stream",
     "text": [
      "                      Kathmandu sahara herda lagcha rahara\n"
     ]
    }
   ],
   "source": [
    "x_new = x_old.rstrip()\n",
    "print(x_new ,\"sahara herda lagcha rahara\")"
   ]
  },
  {
   "cell_type": "code",
   "execution_count": 40,
   "id": "preceding-context",
   "metadata": {},
   "outputs": [
    {
     "data": {
      "text/plain": [
       "'kathmandu'"
      ]
     },
     "execution_count": 40,
     "metadata": {},
     "output_type": "execute_result"
    }
   ],
   "source": [
    "place = \"Kathmandu\"\n",
    "place.replace('K', 'k')"
   ]
  },
  {
   "cell_type": "code",
   "execution_count": 41,
   "id": "adverse-director",
   "metadata": {},
   "outputs": [
    {
     "data": {
      "text/plain": [
       "'Kathmandu'"
      ]
     },
     "execution_count": 41,
     "metadata": {},
     "output_type": "execute_result"
    }
   ],
   "source": [
    "val = place.maketrans(\"Kirtipur\",'12345678')\n",
    "val = place.maketrans('12345678',\"Kirtipur\")\n",
    "place.translate(val)"
   ]
  },
  {
   "cell_type": "code",
   "execution_count": 14,
   "id": "nominated-microphone",
   "metadata": {},
   "outputs": [],
   "source": [
    "R = 'kathmandu'\n",
    "z = R.title()"
   ]
  },
  {
   "cell_type": "code",
   "execution_count": 17,
   "id": "normal-portsmouth",
   "metadata": {},
   "outputs": [
    {
     "name": "stdout",
     "output_type": "stream",
     "text": [
      "True\n"
     ]
    }
   ],
   "source": [
    "print(R.endswith('u'))"
   ]
  },
  {
   "cell_type": "code",
   "execution_count": 18,
   "id": "tropical-lebanon",
   "metadata": {},
   "outputs": [
    {
     "data": {
      "text/plain": [
       "'kATHMANDU'"
      ]
     },
     "execution_count": 18,
     "metadata": {},
     "output_type": "execute_result"
    }
   ],
   "source": [
    "z.swapcase()"
   ]
  },
  {
   "cell_type": "code",
   "execution_count": 45,
   "id": "searching-republic",
   "metadata": {},
   "outputs": [
    {
     "data": {
      "text/plain": [
       "7"
      ]
     },
     "execution_count": 45,
     "metadata": {},
     "output_type": "execute_result"
    }
   ],
   "source": [
    "z.rfind('d')"
   ]
  },
  {
   "cell_type": "markdown",
   "id": "above-intelligence",
   "metadata": {},
   "source": [
    "<pre>\n",
    "islower()\tReturns True if all characters in the string are lower case\n",
    "isnumeric()\tReturns True if all characters in the string are numeric\n",
    "isprintable()\tReturns True if all characters in the string are printable\n",
    "isspace()\tReturns True if all characters in the string are whitespaces\n",
    "istitle()\tReturns True if the string follows the rules of a title\n",
    "isupper()\tReturns True if all characters in the string are upper case\n",
    "join()\tJoins the elements of an iterable to the end of the string\n",
    "ljust()\tReturns a left justified version of the string\n",
    "lower()\tConverts a string into lower case\n",
    "lstrip()\tReturns a left trim version of the string\n",
    "maketrans()\tReturns a translation table to be used in translations\n",
    "partition()\tReturns a tuple where the string is parted into three parts\n",
    "replace()\tReturns a string where a specified value is replaced with a specified value\n",
    "rfind()\tSearches the string for a specified value and returns the last position of where it was found\n",
    "rindex()\tSearches the string for a specified value and returns the last position of where it was found\n",
    "rjust()\tReturns a right justified version of the string\n",
    "rpartition()\tReturns a tuple where the string is parted into three parts\n",
    "rsplit()\tSplits the string at the specified separator, and returns a list\n",
    "rstrip()\tReturns a right trim version of the string\n",
    "split()\tSplits the string at the specified separator, and returns a list\n",
    "splitlines()\tSplits the string at line breaks and returns a list\n",
    "startswith()\tReturns true if the string starts with the specified value\n",
    "strip()\tReturns a trimmed version of the string\n",
    "swapcase()\tSwaps cases, lower case becomes upper case and vice versa\n",
    "title()\tConverts the first character of each word to upper case\n",
    "translate()\tReturns a translated string\n",
    "upper()\tConverts a string into upper case\n",
    "zfill()\tFills the string with a specified number of 0 values at the beginning\n",
    "</pre>"
   ]
  },
  {
   "cell_type": "code",
   "execution_count": 24,
   "id": "judicial-running",
   "metadata": {},
   "outputs": [
    {
     "name": "stdout",
     "output_type": "stream",
     "text": [
      "Enter name of the words starting with K : kathmadnu\n",
      "correct\n",
      "Enter name of the words starting with K : Kirtipur\n",
      "correct\n",
      "Enter name of the words starting with K : Kashmir\n",
      "correct\n",
      "Enter name of the words starting with K : kopenhagen\n",
      "correct\n",
      "Enter name of the words starting with K : Kanchanjunga\n",
      "correct\n",
      "Enter name of the words starting with K : Kanada\n",
      "correct\n",
      "Enter name of the words starting with K : etc\n",
      "sorry wrong \n",
      "['kathmadnu', 'Kirtipur', 'Kashmir', 'kopenhagen', 'Kanchanjunga', 'Kanada']\n"
     ]
    }
   ],
   "source": [
    "k_words = []\n",
    "name = input('Enter name of the words starting with K : ')\n",
    "name = name.lower()\n",
    "\n",
    "while name.lower().startswith('k'):\n",
    "    if name in k_words:\n",
    "        print('sorry repeated')\n",
    "        break\n",
    "    else:\n",
    "        print('correct')\n",
    "        k_words.append(name)\n",
    "        name = input('Enter name of the words starting with K : ')\n",
    "\n",
    "print('sorry wrong ')\n",
    "print(k_words)"
   ]
  },
  {
   "cell_type": "markdown",
   "id": "exterior-bibliography",
   "metadata": {},
   "source": [
    "<pre>\n",
    "The following will return True:\n",
    "\n",
    "bool(\"abc\")\n",
    "bool(123)\n",
    "bool([\"apple\", \"cherry\", \"banana\"])\n",
    "</pre>"
   ]
  },
  {
   "cell_type": "markdown",
   "id": "entertaining-worse",
   "metadata": {},
   "source": [
    "<pre>\n",
    "The following will return False:\n",
    "\n",
    "bool(False)\n",
    "bool(None)\n",
    "bool(0)\n",
    "bool(\"\")\n",
    "bool(())\n",
    "bool([])\n",
    "bool({})\n",
    "</pre>"
   ]
  },
  {
   "cell_type": "code",
   "execution_count": 47,
   "id": "hollywood-alabama",
   "metadata": {},
   "outputs": [
    {
     "name": "stdout",
     "output_type": "stream",
     "text": [
      "checking value is integer :  True\n",
      "checking value is string :  False\n",
      "checking value is float :  False\n",
      "checking value is float :  False\n",
      "checking value is float :  False\n",
      "checking value is float :  False\n",
      "checking value is float :  False\n"
     ]
    }
   ],
   "source": [
    "xo = 12\n",
    "print(\"checking value is integer : \",isinstance(xo, int))\n",
    "print(\"checking value is string : \",isinstance(xo, str))\n",
    "print(\"checking value is float : \",isinstance(xo, float))\n",
    "print(\"checking value is float : \",isinstance(xo, bool))\n",
    "print(\"checking value is float : \",isinstance(xo, list))\n",
    "print(\"checking value is float : \",isinstance(xo, tuple))\n",
    "print(\"checking value is float : \",isinstance(xo, dict))"
   ]
  },
  {
   "cell_type": "code",
   "execution_count": 48,
   "id": "polyphonic-guinea",
   "metadata": {},
   "outputs": [
    {
     "name": "stdout",
     "output_type": "stream",
     "text": [
      "10\n"
     ]
    }
   ],
   "source": [
    "x = 10\n",
    "y = 10\n",
    "z = 10\n",
    "if x is y:\n",
    "    print(x)\n",
    "else:\n",
    "    print(\"X\")"
   ]
  },
  {
   "cell_type": "code",
   "execution_count": 49,
   "id": "color-president",
   "metadata": {},
   "outputs": [
    {
     "name": "stdout",
     "output_type": "stream",
     "text": [
      "10\n"
     ]
    }
   ],
   "source": [
    "if x is y and y is not z:\n",
    "    print(x,y,z)\n",
    "else:\n",
    "    print(x)"
   ]
  },
  {
   "cell_type": "code",
   "execution_count": 50,
   "id": "acoustic-means",
   "metadata": {},
   "outputs": [
    {
     "data": {
      "text/plain": [
       "['K', 'a', 't', 'h', 'm', 'a', 'n', 'd', 'u']"
      ]
     },
     "execution_count": 50,
     "metadata": {},
     "output_type": "execute_result"
    }
   ],
   "source": [
    "area = list(('K','a','t','h','m','a','n','d','u'))\n",
    "area"
   ]
  },
  {
   "cell_type": "code",
   "execution_count": 51,
   "id": "dedicated-canada",
   "metadata": {},
   "outputs": [
    {
     "data": {
      "text/plain": [
       "['n', 'd']"
      ]
     },
     "execution_count": 51,
     "metadata": {},
     "output_type": "execute_result"
    }
   ],
   "source": [
    "area[2:6] # starts from position 2 and > than 6\n",
    "area[-3:] # shows last 3\n",
    "area[-3:-1] # shows last 3(-3) excluding -1(last)"
   ]
  },
  {
   "cell_type": "code",
   "execution_count": 52,
   "id": "consecutive-barcelona",
   "metadata": {},
   "outputs": [],
   "source": [
    "a = ['anaconda', 'baboon', 'cat', 'dog', 'elephant', 'fly', 'giraffe', 'horse']"
   ]
  },
  {
   "cell_type": "code",
   "execution_count": 53,
   "id": "magnetic-absolute",
   "metadata": {},
   "outputs": [],
   "source": [
    "a[0] = 'antelope'"
   ]
  },
  {
   "cell_type": "code",
   "execution_count": 54,
   "id": "blessed-seattle",
   "metadata": {},
   "outputs": [
    {
     "name": "stdout",
     "output_type": "stream",
     "text": [
      "['antelope', 'baboon', 'cat', 'dog', 'elephant', 'fly', 'giraffe', 'horse']\n"
     ]
    }
   ],
   "source": [
    "print(a)"
   ]
  },
  {
   "cell_type": "code",
   "execution_count": 55,
   "id": "nasty-dover",
   "metadata": {},
   "outputs": [],
   "source": [
    "a[0:2] = ['aligator', 'buffalo']"
   ]
  },
  {
   "cell_type": "code",
   "execution_count": 56,
   "id": "proprietary-canon",
   "metadata": {},
   "outputs": [
    {
     "data": {
      "text/plain": [
       "['aligator', 'buffalo', 'cat', 'dog', 'elephant', 'fly', 'giraffe', 'horse']"
      ]
     },
     "execution_count": 56,
     "metadata": {},
     "output_type": "execute_result"
    }
   ],
   "source": [
    "a"
   ]
  },
  {
   "cell_type": "code",
   "execution_count": 57,
   "id": "subsequent-belfast",
   "metadata": {},
   "outputs": [
    {
     "name": "stdout",
     "output_type": "stream",
     "text": [
      "8\n"
     ]
    }
   ],
   "source": [
    "print(len(a))\n",
    "a.insert(8, 'indian_rock_python')"
   ]
  },
  {
   "cell_type": "code",
   "execution_count": 58,
   "id": "sticky-pierce",
   "metadata": {},
   "outputs": [],
   "source": [
    "a.append(\"jackle\")"
   ]
  },
  {
   "cell_type": "code",
   "execution_count": 59,
   "id": "juvenile-january",
   "metadata": {},
   "outputs": [
    {
     "data": {
      "text/plain": [
       "['aligator',\n",
       " 'buffalo',\n",
       " 'cat',\n",
       " 'dog',\n",
       " 'elephant',\n",
       " 'fly',\n",
       " 'giraffe',\n",
       " 'horse',\n",
       " 'indian_rock_python',\n",
       " 'jackle']"
      ]
     },
     "execution_count": 59,
     "metadata": {},
     "output_type": "execute_result"
    }
   ],
   "source": [
    "a"
   ]
  },
  {
   "cell_type": "code",
   "execution_count": 60,
   "id": "coupled-glass",
   "metadata": {},
   "outputs": [
    {
     "data": {
      "text/plain": [
       "['koala', 'lizard', 'mongoose', 'nightangle', 'otter', 'piegon']"
      ]
     },
     "execution_count": 60,
     "metadata": {},
     "output_type": "execute_result"
    }
   ],
   "source": [
    "aa = ['koala','lizard','mongoose','nightangle','otter','piegon']\n",
    "aa"
   ]
  },
  {
   "cell_type": "code",
   "execution_count": 61,
   "id": "operating-commission",
   "metadata": {},
   "outputs": [
    {
     "data": {
      "text/plain": [
       "['aligator',\n",
       " 'buffalo',\n",
       " 'cat',\n",
       " 'dog',\n",
       " 'elephant',\n",
       " 'fly',\n",
       " 'giraffe',\n",
       " 'horse',\n",
       " 'indian_rock_python',\n",
       " 'jackle',\n",
       " 'koala',\n",
       " 'lizard',\n",
       " 'mongoose',\n",
       " 'nightangle',\n",
       " 'otter',\n",
       " 'piegon']"
      ]
     },
     "execution_count": 61,
     "metadata": {},
     "output_type": "execute_result"
    }
   ],
   "source": [
    "a.extend(aa)\n",
    "a"
   ]
  },
  {
   "cell_type": "code",
   "execution_count": 62,
   "id": "hired-darkness",
   "metadata": {},
   "outputs": [],
   "source": [
    "# a.pop(15)\n",
    "a.insert(15,'peigon')"
   ]
  },
  {
   "cell_type": "code",
   "execution_count": 63,
   "id": "seasonal-healing",
   "metadata": {},
   "outputs": [
    {
     "data": {
      "text/plain": [
       "['aligator',\n",
       " 'buffalo',\n",
       " 'cat',\n",
       " 'dog',\n",
       " 'elephant',\n",
       " 'fly',\n",
       " 'giraffe',\n",
       " 'horse',\n",
       " 'indian_rock_python',\n",
       " 'jackle',\n",
       " 'koala',\n",
       " 'lizard',\n",
       " 'mongoose',\n",
       " 'nightangle',\n",
       " 'otter',\n",
       " 'peigon',\n",
       " 'piegon']"
      ]
     },
     "execution_count": 63,
     "metadata": {},
     "output_type": "execute_result"
    }
   ],
   "source": [
    "a"
   ]
  },
  {
   "cell_type": "code",
   "execution_count": 64,
   "id": "frank-ancient",
   "metadata": {},
   "outputs": [],
   "source": [
    "del a[0]"
   ]
  },
  {
   "cell_type": "code",
   "execution_count": 65,
   "id": "honest-oxygen",
   "metadata": {},
   "outputs": [],
   "source": [
    "a.insert(0, 'ant')"
   ]
  },
  {
   "cell_type": "code",
   "execution_count": 66,
   "id": "hungarian-longitude",
   "metadata": {},
   "outputs": [
    {
     "data": {
      "text/plain": [
       "['ant',\n",
       " 'buffalo',\n",
       " 'cat',\n",
       " 'dog',\n",
       " 'elephant',\n",
       " 'fly',\n",
       " 'giraffe',\n",
       " 'horse',\n",
       " 'indian_rock_python',\n",
       " 'jackle',\n",
       " 'koala',\n",
       " 'lizard',\n",
       " 'mongoose',\n",
       " 'nightangle',\n",
       " 'otter',\n",
       " 'peigon',\n",
       " 'piegon']"
      ]
     },
     "execution_count": 66,
     "metadata": {},
     "output_type": "execute_result"
    }
   ],
   "source": [
    "a"
   ]
  },
  {
   "cell_type": "code",
   "execution_count": 67,
   "id": "adaptive-engineer",
   "metadata": {},
   "outputs": [],
   "source": [
    "a.clear()"
   ]
  },
  {
   "cell_type": "code",
   "execution_count": 68,
   "id": "lined-ceremony",
   "metadata": {},
   "outputs": [
    {
     "data": {
      "text/plain": [
       "[]"
      ]
     },
     "execution_count": 68,
     "metadata": {},
     "output_type": "execute_result"
    }
   ],
   "source": [
    "a"
   ]
  },
  {
   "cell_type": "code",
   "execution_count": 69,
   "id": "described-wisdom",
   "metadata": {},
   "outputs": [],
   "source": [
    "a = ['ant',\n",
    " 'buffalo',\n",
    " 'cat',\n",
    " 'dog',\n",
    " 'elephant',\n",
    " 'fly',\n",
    " 'giraffe',\n",
    " 'horse',\n",
    " 'indian_rock_python',\n",
    " 'jackle',\n",
    " 'koala',\n",
    " 'lizard',\n",
    " 'mongoose',\n",
    " 'nightangle',\n",
    " 'otter',\n",
    " 'peigon']"
   ]
  },
  {
   "cell_type": "code",
   "execution_count": 70,
   "id": "finite-arrival",
   "metadata": {},
   "outputs": [],
   "source": [
    "aa = a"
   ]
  },
  {
   "cell_type": "code",
   "execution_count": 71,
   "id": "ongoing-means",
   "metadata": {},
   "outputs": [],
   "source": [
    "a.remove('peigon')"
   ]
  },
  {
   "cell_type": "code",
   "execution_count": 72,
   "id": "international-programming",
   "metadata": {},
   "outputs": [
    {
     "data": {
      "text/plain": [
       "['ant',\n",
       " 'buffalo',\n",
       " 'cat',\n",
       " 'dog',\n",
       " 'elephant',\n",
       " 'fly',\n",
       " 'giraffe',\n",
       " 'horse',\n",
       " 'indian_rock_python',\n",
       " 'jackle',\n",
       " 'koala',\n",
       " 'lizard',\n",
       " 'mongoose',\n",
       " 'nightangle',\n",
       " 'otter']"
      ]
     },
     "execution_count": 72,
     "metadata": {},
     "output_type": "execute_result"
    }
   ],
   "source": [
    "a"
   ]
  },
  {
   "cell_type": "code",
   "execution_count": 73,
   "id": "necessary-metabolism",
   "metadata": {},
   "outputs": [],
   "source": [
    "bb = [x for x in a if 't' in x]"
   ]
  },
  {
   "cell_type": "code",
   "execution_count": 74,
   "id": "ethical-crawford",
   "metadata": {},
   "outputs": [
    {
     "data": {
      "text/plain": [
       "['ant', 'cat', 'elephant', 'indian_rock_python', 'nightangle', 'otter']"
      ]
     },
     "execution_count": 74,
     "metadata": {},
     "output_type": "execute_result"
    }
   ],
   "source": [
    "\n",
    "bb"
   ]
  },
  {
   "cell_type": "code",
   "execution_count": 75,
   "id": "extreme-federation",
   "metadata": {},
   "outputs": [],
   "source": [
    "a.sort(reverse=True)"
   ]
  },
  {
   "cell_type": "code",
   "execution_count": 76,
   "id": "otherwise-support",
   "metadata": {},
   "outputs": [
    {
     "data": {
      "text/plain": [
       "['otter',\n",
       " 'nightangle',\n",
       " 'mongoose',\n",
       " 'lizard',\n",
       " 'koala',\n",
       " 'jackle',\n",
       " 'indian_rock_python',\n",
       " 'horse',\n",
       " 'giraffe',\n",
       " 'fly',\n",
       " 'elephant',\n",
       " 'dog',\n",
       " 'cat',\n",
       " 'buffalo',\n",
       " 'ant']"
      ]
     },
     "execution_count": 76,
     "metadata": {},
     "output_type": "execute_result"
    }
   ],
   "source": [
    "a"
   ]
  },
  {
   "cell_type": "code",
   "execution_count": 77,
   "id": "bulgarian-speed",
   "metadata": {},
   "outputs": [],
   "source": [
    "a.sort()"
   ]
  },
  {
   "cell_type": "code",
   "execution_count": 78,
   "id": "ceramic-chapel",
   "metadata": {},
   "outputs": [
    {
     "data": {
      "text/plain": [
       "['ant',\n",
       " 'buffalo',\n",
       " 'cat',\n",
       " 'dog',\n",
       " 'elephant',\n",
       " 'fly',\n",
       " 'giraffe',\n",
       " 'horse',\n",
       " 'indian_rock_python',\n",
       " 'jackle',\n",
       " 'koala',\n",
       " 'lizard',\n",
       " 'mongoose',\n",
       " 'nightangle',\n",
       " 'otter']"
      ]
     },
     "execution_count": 78,
     "metadata": {},
     "output_type": "execute_result"
    }
   ],
   "source": [
    "a"
   ]
  },
  {
   "cell_type": "code",
   "execution_count": 79,
   "id": "sweet-oxygen",
   "metadata": {},
   "outputs": [
    {
     "name": "stdout",
     "output_type": "stream",
     "text": [
      "[50, 65, 23, 82, 100]\n"
     ]
    }
   ],
   "source": [
    "# which number is near 50\n",
    "def myfunc(n):\n",
    "    return abs(n - 50)\n",
    "\n",
    "thislist = [100, 50, 65, 82, 23]\n",
    "thislist.sort(key = myfunc)\n",
    "print(thislist)"
   ]
  },
  {
   "cell_type": "code",
   "execution_count": 80,
   "id": "refined-negative",
   "metadata": {},
   "outputs": [
    {
     "name": "stdout",
     "output_type": "stream",
     "text": [
      "['Kiwi', 'Orange', 'banana', 'cherry']\n"
     ]
    }
   ],
   "source": [
    "# case insenstive\n",
    "thislist = [\"banana\", \"Orange\", \"Kiwi\", \"cherry\"]\n",
    "thislist.sort()\n",
    "print(thislist)"
   ]
  },
  {
   "cell_type": "code",
   "execution_count": 81,
   "id": "comic-robinson",
   "metadata": {},
   "outputs": [
    {
     "name": "stdout",
     "output_type": "stream",
     "text": [
      "['banana', 'cherry', 'Kiwi', 'Orange']\n"
     ]
    }
   ],
   "source": [
    "thislist = [\"banana\", \"Orange\", \"Kiwi\", \"cherry\"]\n",
    "thislist.sort(key = str.lower)\n",
    "print(thislist)\n",
    "# making case insensitive"
   ]
  },
  {
   "cell_type": "code",
   "execution_count": 82,
   "id": "educated-technology",
   "metadata": {},
   "outputs": [],
   "source": [
    "thislist=a.copy()"
   ]
  },
  {
   "cell_type": "code",
   "execution_count": 83,
   "id": "educated-headline",
   "metadata": {},
   "outputs": [
    {
     "data": {
      "text/plain": [
       "['ant',\n",
       " 'buffalo',\n",
       " 'cat',\n",
       " 'dog',\n",
       " 'elephant',\n",
       " 'fly',\n",
       " 'giraffe',\n",
       " 'horse',\n",
       " 'indian_rock_python',\n",
       " 'jackle',\n",
       " 'koala',\n",
       " 'lizard',\n",
       " 'mongoose',\n",
       " 'nightangle',\n",
       " 'otter']"
      ]
     },
     "execution_count": 83,
     "metadata": {},
     "output_type": "execute_result"
    }
   ],
   "source": [
    "thislist"
   ]
  },
  {
   "cell_type": "code",
   "execution_count": 84,
   "id": "nasty-practice",
   "metadata": {},
   "outputs": [
    {
     "data": {
      "text/plain": [
       "['Kathmandu.jpg', 'Lalitpur.png', 'Bhaktapur.jpeg', 'Kirtipur.mp4']"
      ]
     },
     "execution_count": 84,
     "metadata": {},
     "output_type": "execute_result"
    }
   ],
   "source": [
    "channellist"
   ]
  },
  {
   "cell_type": "code",
   "execution_count": 85,
   "id": "therapeutic-absolute",
   "metadata": {},
   "outputs": [],
   "source": [
    "filetype = [x for x in channellist]"
   ]
  },
  {
   "cell_type": "code",
   "execution_count": 86,
   "id": "surface-champagne",
   "metadata": {},
   "outputs": [
    {
     "data": {
      "text/plain": [
       "0"
      ]
     },
     "execution_count": 86,
     "metadata": {},
     "output_type": "execute_result"
    }
   ],
   "source": [
    "filetype.index(\"Kathmandu.jpg\")"
   ]
  },
  {
   "cell_type": "code",
   "execution_count": 87,
   "id": "acquired-visitor",
   "metadata": {},
   "outputs": [
    {
     "name": "stdout",
     "output_type": "stream",
     "text": [
      "['whale', 'shark', 'dolphin']\n"
     ]
    }
   ],
   "source": [
    "animals = ('lion','peigon', 'whale', 'shark', 'dolphin')\n",
    "(terrestrial, arial, *aquatic) = animals\n",
    "print(aquatic)"
   ]
  },
  {
   "cell_type": "code",
   "execution_count": 88,
   "id": "urban-makeup",
   "metadata": {},
   "outputs": [
    {
     "data": {
      "text/plain": [
       "{'Bye', 'ByeBye', 'GoodBye', 'Hello', 'Hi'}"
      ]
     },
     "execution_count": 88,
     "metadata": {},
     "output_type": "execute_result"
    }
   ],
   "source": [
    "set_a = {'Hello', 'Hi', 'GoodBye', 'ByeBye'}\n",
    "set_a.add('Bye')\n",
    "set_a"
   ]
  },
  {
   "cell_type": "code",
   "execution_count": 89,
   "id": "hispanic-panama",
   "metadata": {},
   "outputs": [
    {
     "data": {
      "text/plain": [
       "{'Bye', 'GoodBye', 'Hello', 'Hi'}"
      ]
     },
     "execution_count": 89,
     "metadata": {},
     "output_type": "execute_result"
    }
   ],
   "source": [
    "set_a.remove('ByeBye')\n",
    "set_a"
   ]
  },
  {
   "cell_type": "code",
   "execution_count": 90,
   "id": "standard-sister",
   "metadata": {},
   "outputs": [],
   "source": [
    "set_b = {'GetOut', 'GetLost', 'GoBack', 'Bye'}"
   ]
  },
  {
   "cell_type": "code",
   "execution_count": 91,
   "id": "anticipated-cleaning",
   "metadata": {},
   "outputs": [
    {
     "data": {
      "text/plain": [
       "{'Bye', 'GetLost', 'GetOut', 'GoBack', 'GoodBye', 'Hello', 'Hi'}"
      ]
     },
     "execution_count": 91,
     "metadata": {},
     "output_type": "execute_result"
    }
   ],
   "source": [
    "set_a.union(set_b)"
   ]
  },
  {
   "cell_type": "code",
   "execution_count": 92,
   "id": "incorrect-homework",
   "metadata": {},
   "outputs": [
    {
     "data": {
      "text/plain": [
       "{'Bye'}"
      ]
     },
     "execution_count": 92,
     "metadata": {},
     "output_type": "execute_result"
    }
   ],
   "source": [
    "# set_a.intersection_update(set_b)\n",
    "set_a.intersection(set_b)"
   ]
  },
  {
   "cell_type": "code",
   "execution_count": 93,
   "id": "statistical-latest",
   "metadata": {},
   "outputs": [
    {
     "data": {
      "text/plain": [
       "{'Bye', 'GoodBye', 'Hello', 'Hi'}"
      ]
     },
     "execution_count": 93,
     "metadata": {},
     "output_type": "execute_result"
    }
   ],
   "source": [
    "set_a"
   ]
  },
  {
   "cell_type": "code",
   "execution_count": 94,
   "id": "norwegian-canon",
   "metadata": {},
   "outputs": [
    {
     "data": {
      "text/plain": [
       "{'GetLost', 'GetOut', 'GoBack', 'GoodBye', 'Hello', 'Hi'}"
      ]
     },
     "execution_count": 94,
     "metadata": {},
     "output_type": "execute_result"
    }
   ],
   "source": [
    "set_a.symmetric_difference(set_b) # except the intersection point"
   ]
  },
  {
   "cell_type": "markdown",
   "id": "equivalent-closing",
   "metadata": {},
   "source": [
    "<pre>\n",
    "isdisjoint()\tReturns whether two sets have a intersection or not\n",
    "issubset()\tReturns whether another set contains this set or not\n",
    "issuperset()\tReturns whether this set contains another set or not\n",
    "update()\tUpdate the set with the union of this set and others\n",
    "</pre>"
   ]
  },
  {
   "cell_type": "code",
   "execution_count": null,
   "id": "honey-tsunami",
   "metadata": {},
   "outputs": [],
   "source": []
  }
 ],
 "metadata": {
  "kernelspec": {
   "display_name": "ml_venv",
   "language": "python",
   "name": "ml_venv"
  },
  "language_info": {
   "codemirror_mode": {
    "name": "ipython",
    "version": 3
   },
   "file_extension": ".py",
   "mimetype": "text/x-python",
   "name": "python",
   "nbconvert_exporter": "python",
   "pygments_lexer": "ipython3",
   "version": "3.8.5"
  }
 },
 "nbformat": 4,
 "nbformat_minor": 5
}
