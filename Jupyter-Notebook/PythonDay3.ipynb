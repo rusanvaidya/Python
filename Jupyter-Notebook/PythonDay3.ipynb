{
 "cells": [
  {
   "cell_type": "markdown",
   "id": "disabled-broad",
   "metadata": {},
   "source": [
    "# JSON"
   ]
  },
  {
   "cell_type": "code",
   "execution_count": 2,
   "id": "potential-enough",
   "metadata": {},
   "outputs": [],
   "source": [
    "import json"
   ]
  },
  {
   "cell_type": "code",
   "execution_count": 4,
   "id": "secure-cover",
   "metadata": {},
   "outputs": [
    {
     "name": "stdout",
     "output_type": "stream",
     "text": [
      "eagle\n"
     ]
    }
   ],
   "source": [
    "# here x is read as json file\n",
    "x = '{\"terestrial\": \"lion\", \"aquatic\": \"shark\", \"arial\": \"eagle\"}'\n",
    "\n",
    "y = json.loads(x)\n",
    "print(y[\"arial\"])"
   ]
  },
  {
   "cell_type": "code",
   "execution_count": 7,
   "id": "theoretical-rental",
   "metadata": {},
   "outputs": [
    {
     "name": "stdout",
     "output_type": "stream",
     "text": [
      "{\"terestrial\": \"lion\", \"aquatic\": \"shark\", \"arial\": \"eagle\"}\n",
      "eagle\n"
     ]
    }
   ],
   "source": [
    "# converting into json\n",
    "x = {\"terestrial\": \"lion\", \"aquatic\": \"shark\", \"arial\": \"eagle\"}\n",
    "\n",
    "y = json.dumps(x)\n",
    "print(y)\n",
    "\n",
    "# converting json into file\n",
    "# x = json.loads(y)\n",
    "# print(x[\"arial\"])"
   ]
  },
  {
   "cell_type": "code",
   "execution_count": 7,
   "id": "turned-sherman",
   "metadata": {},
   "outputs": [
    {
     "name": "stdout",
     "output_type": "stream",
     "text": [
      "{\n",
      "     \"terestrial\": \"lion\",\n",
      "     \"aquatic\": \"shark\",\n",
      "     \"arial\": \"eagle\"\n",
      "}\n"
     ]
    }
   ],
   "source": [
    "print(json.dumps(x, indent=5))"
   ]
  },
  {
   "cell_type": "code",
   "execution_count": 16,
   "id": "accessible-blend",
   "metadata": {},
   "outputs": [
    {
     "name": "stdout",
     "output_type": "stream",
     "text": [
      "{\n",
      "     \"terestrial\"-> \"lion\". \n",
      "     \"aquatic\"-> \"shark\". \n",
      "     \"arial\"-> \"eagle\"\n",
      "}\n"
     ]
    }
   ],
   "source": [
    "print(json.dumps(x, indent=5, separators=('. ', \"-> \")))"
   ]
  },
  {
   "cell_type": "code",
   "execution_count": 17,
   "id": "thrown-ballet",
   "metadata": {},
   "outputs": [
    {
     "name": "stdout",
     "output_type": "stream",
     "text": [
      "{\"aquatic\": \"shark\", \"arial\": \"eagle\", \"terestrial\": \"lion\"}\n"
     ]
    }
   ],
   "source": [
    "print(json.dumps(x, sort_keys=True))"
   ]
  },
  {
   "cell_type": "code",
   "execution_count": 11,
   "id": "royal-gibson",
   "metadata": {},
   "outputs": [],
   "source": [
    "import re"
   ]
  },
  {
   "cell_type": "code",
   "execution_count": 14,
   "id": "indirect-billy",
   "metadata": {},
   "outputs": [],
   "source": [
    "file = \"doggie.png\"\n",
    "filtering = re.search(\".jpg\",file)"
   ]
  },
  {
   "cell_type": "code",
   "execution_count": 15,
   "id": "mysterious-offset",
   "metadata": {},
   "outputs": [
    {
     "name": "stdout",
     "output_type": "stream",
     "text": [
      "Wrong file\n"
     ]
    }
   ],
   "source": [
    "if filtering:\n",
    "    print(\"It is jpg file\")\n",
    "else:\n",
    "    print(\"Wrong file\")"
   ]
  },
  {
   "cell_type": "code",
   "execution_count": 16,
   "id": "general-place",
   "metadata": {},
   "outputs": [
    {
     "data": {
      "text/plain": [
       "['g', 'g', 'g']"
      ]
     },
     "execution_count": 16,
     "metadata": {},
     "output_type": "execute_result"
    }
   ],
   "source": [
    "re.findall(\"g\", file)"
   ]
  },
  {
   "cell_type": "code",
   "execution_count": 17,
   "id": "expired-telephone",
   "metadata": {},
   "outputs": [
    {
     "data": {
      "text/plain": [
       "['doggie', 'png']"
      ]
     },
     "execution_count": 17,
     "metadata": {},
     "output_type": "execute_result"
    }
   ],
   "source": [
    "re.split(\"\\.\", file)"
   ]
  },
  {
   "cell_type": "code",
   "execution_count": 18,
   "id": "brutal-composer",
   "metadata": {},
   "outputs": [
    {
     "data": {
      "text/plain": [
       "'doggie.jpg'"
      ]
     },
     "execution_count": 18,
     "metadata": {},
     "output_type": "execute_result"
    }
   ],
   "source": [
    "re.sub(\"pn\",\"jp\", file)"
   ]
  },
  {
   "cell_type": "code",
   "execution_count": 25,
   "id": "hawaiian-today",
   "metadata": {},
   "outputs": [
    {
     "data": {
      "text/plain": [
       "(7, 10)"
      ]
     },
     "execution_count": 25,
     "metadata": {},
     "output_type": "execute_result"
    }
   ],
   "source": [
    "abc = re.search(r\"\\bp\\w+\", file)\n",
    "abc.span()\n",
    "# r -> read\n",
    "# \"\\b-> start\n",
    "# \\w+ -> after that string what\n",
    "# Print the position (start- and end-position) of the first match occurrence."
   ]
  },
  {
   "cell_type": "code",
   "execution_count": 26,
   "id": "advance-bryan",
   "metadata": {},
   "outputs": [
    {
     "data": {
      "text/plain": [
       "'doggie.png'"
      ]
     },
     "execution_count": 26,
     "metadata": {},
     "output_type": "execute_result"
    }
   ],
   "source": [
    "abc.string\n",
    "# Print the string passed into the function"
   ]
  },
  {
   "cell_type": "code",
   "execution_count": 27,
   "id": "eleven-hobby",
   "metadata": {},
   "outputs": [
    {
     "data": {
      "text/plain": [
       "'png'"
      ]
     },
     "execution_count": 27,
     "metadata": {},
     "output_type": "execute_result"
    }
   ],
   "source": [
    "abc.group()\n",
    "# The regular expression looks for any words that starts with letter \"d\":"
   ]
  },
  {
   "cell_type": "code",
   "execution_count": 28,
   "id": "visible-italic",
   "metadata": {},
   "outputs": [],
   "source": [
    "aabb = re.search(r\"\\bn\\w+\", file)"
   ]
  },
  {
   "cell_type": "code",
   "execution_count": 29,
   "id": "curious-boating",
   "metadata": {},
   "outputs": [],
   "source": [
    "aabb"
   ]
  },
  {
   "cell_type": "code",
   "execution_count": 32,
   "id": "wrong-cooler",
   "metadata": {},
   "outputs": [
    {
     "data": {
      "text/plain": [
       "'jpg'"
      ]
     },
     "execution_count": 32,
     "metadata": {},
     "output_type": "execute_result"
    }
   ],
   "source": [
    "filename = \"mypic.jpg\"\n",
    "name_separate = re.split('\\.',filename)\n",
    "name_separate[-1]"
   ]
  },
  {
   "cell_type": "code",
   "execution_count": null,
   "id": "taken-surfing",
   "metadata": {},
   "outputs": [],
   "source": []
  }
 ],
 "metadata": {
  "kernelspec": {
   "display_name": "ml_venv",
   "language": "python",
   "name": "ml_venv"
  },
  "language_info": {
   "codemirror_mode": {
    "name": "ipython",
    "version": 3
   },
   "file_extension": ".py",
   "mimetype": "text/x-python",
   "name": "python",
   "nbconvert_exporter": "python",
   "pygments_lexer": "ipython3",
   "version": "3.8.5"
  }
 },
 "nbformat": 4,
 "nbformat_minor": 5
}
