{
 "cells": [
  {
   "cell_type": "markdown",
   "id": "fabulous-provincial",
   "metadata": {},
   "source": [
    "# Numpy"
   ]
  },
  {
   "cell_type": "code",
   "execution_count": 2,
   "id": "controversial-johns",
   "metadata": {},
   "outputs": [],
   "source": [
    "import numpy as np"
   ]
  },
  {
   "cell_type": "code",
   "execution_count": 2,
   "id": "informal-narrative",
   "metadata": {},
   "outputs": [
    {
     "data": {
      "text/plain": [
       "array([1, 2, 3, 4])"
      ]
     },
     "execution_count": 2,
     "metadata": {},
     "output_type": "execute_result"
    }
   ],
   "source": [
    "arr = np.array([1,2,3,4])\n",
    "arr"
   ]
  },
  {
   "cell_type": "code",
   "execution_count": 3,
   "id": "mobile-assignment",
   "metadata": {},
   "outputs": [
    {
     "data": {
      "text/plain": [
       "array([1, 2, 3, 4, 5, 6])"
      ]
     },
     "execution_count": 3,
     "metadata": {},
     "output_type": "execute_result"
    }
   ],
   "source": [
    "arra = np.array((1,2,3,4,5,6))\n",
    "arra"
   ]
  },
  {
   "cell_type": "code",
   "execution_count": 4,
   "id": "united-generation",
   "metadata": {},
   "outputs": [
    {
     "data": {
      "text/plain": [
       "array([[  1,   3,   4],\n",
       "       [ 12, 141, 122],\n",
       "       [ 34, 344,  90],\n",
       "       [ 12,  23,  56]])"
      ]
     },
     "execution_count": 4,
     "metadata": {},
     "output_type": "execute_result"
    }
   ],
   "source": [
    "arr1 = np.array([[1,3,4],\n",
    "                [12,141,122],\n",
    "                [34,344,90], \n",
    "                 [12,23,56]])\n",
    "arr1"
   ]
  },
  {
   "cell_type": "code",
   "execution_count": 5,
   "id": "integral-conversion",
   "metadata": {},
   "outputs": [
    {
     "data": {
      "text/plain": [
       "array([[[  1,   3,   4],\n",
       "        [ 12, 141, 122]],\n",
       "\n",
       "       [[ 34, 344,  90],\n",
       "        [ 12,  23,  56]]])"
      ]
     },
     "execution_count": 5,
     "metadata": {},
     "output_type": "execute_result"
    }
   ],
   "source": [
    "arr1 = np.array([[[1,3,4],[12,141,122]],\n",
    "                 [[34,344,90], [12,23,56]]])\n",
    "arr1"
   ]
  },
  {
   "cell_type": "code",
   "execution_count": 6,
   "id": "rural-regulation",
   "metadata": {},
   "outputs": [
    {
     "data": {
      "text/plain": [
       "3"
      ]
     },
     "execution_count": 6,
     "metadata": {},
     "output_type": "execute_result"
    }
   ],
   "source": [
    "arr1.ndim"
   ]
  },
  {
   "cell_type": "code",
   "execution_count": 7,
   "id": "noted-earth",
   "metadata": {},
   "outputs": [
    {
     "name": "stdout",
     "output_type": "stream",
     "text": [
      "[[[  1   3   4]\n",
      "  [ 12 141 122]]\n",
      "\n",
      " [[ 34 344  90]\n",
      "  [ 12  23  56]]] \n",
      "\n",
      "[[  1   3   4]\n",
      " [ 12 141 122]] \n",
      "\n",
      "[1 3 4] \n",
      "\n"
     ]
    }
   ],
   "source": [
    "print(arr1,\"\\n\")\n",
    "print(arr1[0],\"\\n\")\n",
    "print(arr1[0,0],\"\\n\")"
   ]
  },
  {
   "cell_type": "code",
   "execution_count": 8,
   "id": "informational-think",
   "metadata": {},
   "outputs": [
    {
     "data": {
      "text/plain": [
       "array([[[  1,   3,   4],\n",
       "        [ 12, 141, 122],\n",
       "        [ 34, 344,  90],\n",
       "        [ 12,  23,  56]]])"
      ]
     },
     "execution_count": 8,
     "metadata": {},
     "output_type": "execute_result"
    }
   ],
   "source": [
    "arr2 = np.array([[1,3,4],[12,141,122],[34,344,90], [12,23,56]], ndmin=3)\n",
    "arr2"
   ]
  },
  {
   "cell_type": "code",
   "execution_count": 9,
   "id": "important-meeting",
   "metadata": {},
   "outputs": [
    {
     "data": {
      "text/plain": [
       "3"
      ]
     },
     "execution_count": 9,
     "metadata": {},
     "output_type": "execute_result"
    }
   ],
   "source": [
    "arr2.ndim"
   ]
  },
  {
   "cell_type": "code",
   "execution_count": 10,
   "id": "muslim-active",
   "metadata": {},
   "outputs": [
    {
     "name": "stdout",
     "output_type": "stream",
     "text": [
      "[[  1   3   4]\n",
      " [ 12 141 122]\n",
      " [ 34 344  90]\n",
      " [ 12  23  56]] \n",
      "\n",
      "[1 3 4] \n",
      "\n",
      "1 \n",
      "\n"
     ]
    }
   ],
   "source": [
    "print(arr2[0],\"\\n\")\n",
    "print(arr2[0,0],\"\\n\")\n",
    "print(arr2[0,0,0],\"\\n\")"
   ]
  },
  {
   "cell_type": "code",
   "execution_count": 11,
   "id": "roman-retail",
   "metadata": {},
   "outputs": [
    {
     "name": "stdout",
     "output_type": "stream",
     "text": [
      "[5 6 7 8]\n"
     ]
    }
   ],
   "source": [
    "# slicing the array\n",
    "arr = np.array([1,2,3,4,5,6,7,8])\n",
    "print(arr[-4:])"
   ]
  },
  {
   "cell_type": "code",
   "execution_count": 12,
   "id": "active-panic",
   "metadata": {},
   "outputs": [
    {
     "data": {
      "text/plain": [
       "array([1, 4, 7])"
      ]
     },
     "execution_count": 12,
     "metadata": {},
     "output_type": "execute_result"
    }
   ],
   "source": [
    "arr[0:-1:3]\n",
    "# (start:end:step)"
   ]
  },
  {
   "cell_type": "code",
   "execution_count": 13,
   "id": "established-thickness",
   "metadata": {},
   "outputs": [
    {
     "name": "stdout",
     "output_type": "stream",
     "text": [
      "[2 3 4]\n",
      "[12 13 14]\n"
     ]
    }
   ],
   "source": [
    "arr = np.array([[1,2,3,4,5,6,7,8],\n",
    "              [11,12,13,14,15,61,71,81]])\n",
    "print(arr[0, 1:4])\n",
    "print(arr[1, 1:4])\n",
    "# arr[index, start:end]"
   ]
  },
  {
   "cell_type": "code",
   "execution_count": 14,
   "id": "raised-fitness",
   "metadata": {},
   "outputs": [
    {
     "name": "stdout",
     "output_type": "stream",
     "text": [
      "[ 3 13]\n",
      "[14]\n"
     ]
    }
   ],
   "source": [
    "arr = np.array([[1,2,3,4,5,6,7,8],\n",
    "              [11,12,13,14,15,61,71,81]])\n",
    "print(arr[0:2, 2])\n",
    "print(arr[1:4, 3])\n",
    "# arr[start:end, index] , index after slicing"
   ]
  },
  {
   "cell_type": "code",
   "execution_count": 15,
   "id": "secret-producer",
   "metadata": {},
   "outputs": [
    {
     "name": "stdout",
     "output_type": "stream",
     "text": [
      "int64\n"
     ]
    }
   ],
   "source": [
    "print(arr.dtype)"
   ]
  },
  {
   "cell_type": "code",
   "execution_count": 7,
   "id": "muslim-stock",
   "metadata": {},
   "outputs": [
    {
     "name": "stdout",
     "output_type": "stream",
     "text": [
      "|S1\n",
      "[b'1' b'2' b'3' b'5' b'6']\n"
     ]
    }
   ],
   "source": [
    "arr = np.array([1,2,3,5,6], dtype='S')\n",
    "print(arr.dtype)\n",
    "print(arr)"
   ]
  },
  {
   "cell_type": "markdown",
   "id": "stuck-ministry",
   "metadata": {},
   "source": [
    "<pre>\n",
    "below is a list of all data types in NumPy and the characters used to represent them.\n",
    "\n",
    "i - integer\n",
    "b - boolean\n",
    "u - unsigned integer\n",
    "f - float\n",
    "c - complex float\n",
    "m - timedelta\n",
    "M - datetime\n",
    "O - object\n",
    "S - string\n",
    "U - unicode string\n",
    "V - fixed chunk of memory for other type ( void )\n",
    "</pre>"
   ]
  },
  {
   "cell_type": "code",
   "execution_count": 17,
   "id": "interpreted-forty",
   "metadata": {},
   "outputs": [
    {
     "name": "stdout",
     "output_type": "stream",
     "text": [
      "int32\n",
      "[1 2 3 5 6]\n"
     ]
    }
   ],
   "source": [
    "new_arr = arr.astype('i')\n",
    "print(new_arr.dtype)\n",
    "print(new_arr)"
   ]
  },
  {
   "cell_type": "code",
   "execution_count": 18,
   "id": "coated-large",
   "metadata": {},
   "outputs": [
    {
     "name": "stdout",
     "output_type": "stream",
     "text": [
      "int32\n"
     ]
    }
   ],
   "source": [
    "arr = np.array([0, 2, 3, 4], dtype='i4')\n",
    "print(arr.dtype)"
   ]
  },
  {
   "cell_type": "code",
   "execution_count": 19,
   "id": "shared-impression",
   "metadata": {},
   "outputs": [
    {
     "name": "stdout",
     "output_type": "stream",
     "text": [
      "bool\n",
      "[False  True  True  True]\n"
     ]
    }
   ],
   "source": [
    "new_arr = arr.astype('bool')\n",
    "print(new_arr.dtype)\n",
    "print(new_arr)"
   ]
  },
  {
   "cell_type": "code",
   "execution_count": 20,
   "id": "dangerous-casting",
   "metadata": {},
   "outputs": [
    {
     "name": "stdout",
     "output_type": "stream",
     "text": [
      "[0 2 3 4]\n"
     ]
    }
   ],
   "source": [
    "new1 = arr.copy()\n",
    "print(new1)"
   ]
  },
  {
   "cell_type": "code",
   "execution_count": 21,
   "id": "enabling-spending",
   "metadata": {},
   "outputs": [
    {
     "name": "stdout",
     "output_type": "stream",
     "text": [
      "[0 2 3 4]\n"
     ]
    }
   ],
   "source": [
    "view1 = arr.view()\n",
    "print(view1)"
   ]
  },
  {
   "cell_type": "code",
   "execution_count": 22,
   "id": "specific-detroit",
   "metadata": {},
   "outputs": [
    {
     "name": "stdout",
     "output_type": "stream",
     "text": [
      "[0 2 3 4]\n",
      "[122   2   3   4]\n"
     ]
    }
   ],
   "source": [
    "# now changing data in arr1 let's see what happens in view1 and new1\n",
    "arr[0]=122\n",
    "print(new1)\n",
    "print(view1)"
   ]
  },
  {
   "cell_type": "markdown",
   "id": "separate-tumor",
   "metadata": {},
   "source": [
    "<pre>\n",
    "Here we can observe that after changing in arr new1 is as it is but view1 also changed.\n",
    "\n",
    "This is because new1 is a new array and copied from arr and now owns the data\n",
    "While view1 is not an array it views the arr array and show the data arr owns\n",
    "</pre>"
   ]
  },
  {
   "cell_type": "code",
   "execution_count": 23,
   "id": "expressed-grammar",
   "metadata": {},
   "outputs": [
    {
     "name": "stdout",
     "output_type": "stream",
     "text": [
      "None\n",
      "[122   2   3   4]\n"
     ]
    }
   ],
   "source": [
    "# check if the data is it's own or not using base\n",
    "\n",
    "print(new1.base)\n",
    "print(view1.base)\n",
    "# new1 prints none because it has it's own value while view1 prints value from arr"
   ]
  },
  {
   "cell_type": "code",
   "execution_count": 24,
   "id": "third-present",
   "metadata": {},
   "outputs": [
    {
     "data": {
      "text/plain": [
       "(4,)"
      ]
     },
     "execution_count": 24,
     "metadata": {},
     "output_type": "execute_result"
    }
   ],
   "source": [
    "arr.shape"
   ]
  },
  {
   "cell_type": "code",
   "execution_count": 25,
   "id": "ceramic-schedule",
   "metadata": {},
   "outputs": [],
   "source": [
    "# arr = arr.reshape(1,8)\n",
    "# print(arr)"
   ]
  },
  {
   "cell_type": "code",
   "execution_count": 26,
   "id": "hollow-shirt",
   "metadata": {},
   "outputs": [],
   "source": [
    "# arr = arr.reshape(2,2,2)\n",
    "# print(arr)"
   ]
  },
  {
   "cell_type": "code",
   "execution_count": 27,
   "id": "stopped-eating",
   "metadata": {},
   "outputs": [
    {
     "data": {
      "text/plain": [
       "array([122,   2,   3,   4], dtype=int32)"
      ]
     },
     "execution_count": 27,
     "metadata": {},
     "output_type": "execute_result"
    }
   ],
   "source": [
    "view1"
   ]
  },
  {
   "cell_type": "code",
   "execution_count": 28,
   "id": "metric-riding",
   "metadata": {},
   "outputs": [],
   "source": [
    "v1 = view1.reshape(1,2,2).base"
   ]
  },
  {
   "cell_type": "code",
   "execution_count": 29,
   "id": "electoral-holly",
   "metadata": {},
   "outputs": [
    {
     "name": "stdout",
     "output_type": "stream",
     "text": [
      "[122   2   3   4]\n"
     ]
    }
   ],
   "source": [
    "print(v1)"
   ]
  },
  {
   "cell_type": "code",
   "execution_count": 30,
   "id": "charitable-voluntary",
   "metadata": {},
   "outputs": [
    {
     "name": "stdout",
     "output_type": "stream",
     "text": [
      "[122   2   3   4]\n"
     ]
    }
   ],
   "source": [
    "arr = arr.reshape(-1)\n",
    "print(arr)"
   ]
  },
  {
   "cell_type": "code",
   "execution_count": 31,
   "id": "tutorial-working",
   "metadata": {},
   "outputs": [
    {
     "data": {
      "text/plain": [
       "(4,)"
      ]
     },
     "execution_count": 31,
     "metadata": {},
     "output_type": "execute_result"
    }
   ],
   "source": [
    "arr.shape"
   ]
  },
  {
   "cell_type": "code",
   "execution_count": 32,
   "id": "dense-newcastle",
   "metadata": {},
   "outputs": [
    {
     "name": "stdout",
     "output_type": "stream",
     "text": [
      "[1 2 3]\n",
      "[4 5 6]\n"
     ]
    }
   ],
   "source": [
    "arr = np.array([[1, 2, 3], [4, 5, 6]])\n",
    "\n",
    "for x in arr:\n",
    "    print(x)"
   ]
  },
  {
   "cell_type": "code",
   "execution_count": 33,
   "id": "cross-indication",
   "metadata": {},
   "outputs": [
    {
     "name": "stdout",
     "output_type": "stream",
     "text": [
      "1\n",
      "2\n",
      "3\n",
      "4\n",
      "5\n",
      "6\n"
     ]
    }
   ],
   "source": [
    "arr = np.array([[1, 2, 3], [4, 5, 6]])\n",
    "\n",
    "for x in arr:\n",
    "    for y in x:\n",
    "        print(y)"
   ]
  },
  {
   "cell_type": "code",
   "execution_count": 8,
   "id": "ultimate-engineer",
   "metadata": {},
   "outputs": [
    {
     "name": "stdout",
     "output_type": "stream",
     "text": [
      "1\n",
      "2\n",
      "3\n",
      "4\n",
      "5\n",
      "6\n",
      "7\n",
      "8\n",
      "9\n"
     ]
    }
   ],
   "source": [
    "arr = np.array([[1, 2, 3], [4, 5, 6], [7,8,9]])\n",
    "\n",
    "for x in np.nditer(arr):\n",
    "    print(x)"
   ]
  },
  {
   "cell_type": "code",
   "execution_count": 15,
   "id": "healthy-powder",
   "metadata": {},
   "outputs": [
    {
     "name": "stdout",
     "output_type": "stream",
     "text": [
      "1\n",
      "3\n",
      "4\n",
      "6\n",
      "7\n",
      "9\n"
     ]
    }
   ],
   "source": [
    "for x in np.nditer(arr[:, ::2]):\n",
    "    print(x)"
   ]
  },
  {
   "cell_type": "code",
   "execution_count": 16,
   "id": "exterior-pacific",
   "metadata": {},
   "outputs": [
    {
     "name": "stdout",
     "output_type": "stream",
     "text": [
      "(0, 0) 1\n",
      "(0, 1) 2\n",
      "(0, 2) 3\n",
      "(1, 0) 4\n",
      "(1, 1) 5\n",
      "(1, 2) 6\n",
      "(2, 0) 7\n",
      "(2, 1) 8\n",
      "(2, 2) 9\n"
     ]
    }
   ],
   "source": [
    "for idx, x in np.ndenumerate(arr):\n",
    "    print(idx, x)"
   ]
  },
  {
   "cell_type": "code",
   "execution_count": 37,
   "id": "invisible-christian",
   "metadata": {},
   "outputs": [],
   "source": [
    "arr1 = np.array([1,2,3,4,5,6])\n",
    "arr2 = np.array([7,8,9,10,11,12])"
   ]
  },
  {
   "cell_type": "code",
   "execution_count": 38,
   "id": "functional-booth",
   "metadata": {
    "scrolled": true
   },
   "outputs": [
    {
     "name": "stdout",
     "output_type": "stream",
     "text": [
      "[ 1  2  3  4  5  6  7  8  9 10 11 12]\n"
     ]
    }
   ],
   "source": [
    "arr3 = np.concatenate((arr1,arr2))\n",
    "print(arr3)"
   ]
  },
  {
   "cell_type": "code",
   "execution_count": 39,
   "id": "acting-gateway",
   "metadata": {},
   "outputs": [
    {
     "name": "stdout",
     "output_type": "stream",
     "text": [
      "[[ 1  7]\n",
      " [ 2  8]\n",
      " [ 3  9]\n",
      " [ 4 10]\n",
      " [ 5 11]\n",
      " [ 6 12]]\n"
     ]
    }
   ],
   "source": [
    "arr4 = np.stack((arr1,arr2), axis=1)\n",
    "print(arr4)"
   ]
  },
  {
   "cell_type": "code",
   "execution_count": 40,
   "id": "strategic-azerbaijan",
   "metadata": {},
   "outputs": [
    {
     "name": "stdout",
     "output_type": "stream",
     "text": [
      "[ 1  2  3  4  5  6  7  8  9 10 11 12]\n"
     ]
    }
   ],
   "source": [
    "arr5 = np.hstack((arr1,arr2))\n",
    "print(arr5)"
   ]
  },
  {
   "cell_type": "code",
   "execution_count": 41,
   "id": "negative-bobby",
   "metadata": {},
   "outputs": [
    {
     "name": "stdout",
     "output_type": "stream",
     "text": [
      "[[ 1  2  3  4  5  6]\n",
      " [ 7  8  9 10 11 12]]\n"
     ]
    }
   ],
   "source": [
    "arr6 = np.vstack((arr1,arr2))\n",
    "print(arr6)"
   ]
  },
  {
   "cell_type": "code",
   "execution_count": 42,
   "id": "compatible-stewart",
   "metadata": {},
   "outputs": [
    {
     "name": "stdout",
     "output_type": "stream",
     "text": [
      "[[[ 1  7]\n",
      "  [ 2  8]\n",
      "  [ 3  9]\n",
      "  [ 4 10]\n",
      "  [ 5 11]\n",
      "  [ 6 12]]]\n"
     ]
    }
   ],
   "source": [
    "arr6 = np.dstack((arr1,arr2))\n",
    "print(arr6)"
   ]
  },
  {
   "cell_type": "code",
   "execution_count": 62,
   "id": "global-draft",
   "metadata": {},
   "outputs": [
    {
     "name": "stdout",
     "output_type": "stream",
     "text": [
      "[array([1, 2]), array([3, 4]), array([5, 6]), array([7, 8]), array([8, 9]), array([9, 9]), array([12, 34]), array([21]), array([1212])]\n"
     ]
    }
   ],
   "source": [
    "arra = np.array([1,2,3,4,5,6,7,8,8,9,9,9,12,34,21,1212])\n",
    "arr7 = np.array_split(arra, 9)\n",
    "print(arr7)\n",
    "# arra split into 9 different array"
   ]
  },
  {
   "cell_type": "code",
   "execution_count": 44,
   "id": "numerical-ethernet",
   "metadata": {},
   "outputs": [
    {
     "name": "stdout",
     "output_type": "stream",
     "text": [
      "[array([[ 1,  2],\n",
      "       [ 5,  6],\n",
      "       [ 8,  9],\n",
      "       [12, 34]]), array([[ 3],\n",
      "       [ 7],\n",
      "       [ 9],\n",
      "       [21]]), array([[   4],\n",
      "       [   8],\n",
      "       [   9],\n",
      "       [1212]])]\n"
     ]
    }
   ],
   "source": [
    "arra = np.array([[1,2,3,4],[5,6,7,8],[8,9,9,9],[12,34,21,1212]])\n",
    "arr7 = np.array_split(arra, 3, axis=1)\n",
    "print(arr7)\n",
    "# arra split into 9 different array horizontally"
   ]
  },
  {
   "cell_type": "code",
   "execution_count": 45,
   "id": "laden-actor",
   "metadata": {},
   "outputs": [
    {
     "name": "stdout",
     "output_type": "stream",
     "text": [
      "[array([[ 1],\n",
      "       [ 4],\n",
      "       [ 7],\n",
      "       [10],\n",
      "       [13],\n",
      "       [16]]), array([[ 2],\n",
      "       [ 5],\n",
      "       [ 8],\n",
      "       [11],\n",
      "       [14],\n",
      "       [17]]), array([[ 3],\n",
      "       [ 6],\n",
      "       [ 9],\n",
      "       [12],\n",
      "       [15],\n",
      "       [18]])]\n"
     ]
    }
   ],
   "source": [
    "arra = np.array([[1, 2, 3], [4, 5, 6], [7, 8, 9], [10, 11, 12], [13, 14, 15], [16, 17, 18]])\n",
    "arr7 = np.hsplit(arra, 3)\n",
    "print(arr7)\n",
    "# arra split into 9 different array horizontally"
   ]
  },
  {
   "cell_type": "code",
   "execution_count": 46,
   "id": "recent-interval",
   "metadata": {},
   "outputs": [
    {
     "name": "stdout",
     "output_type": "stream",
     "text": [
      "[array([[1, 2, 3],\n",
      "       [4, 5, 6]]), array([[ 7,  8,  9],\n",
      "       [10, 11, 12]]), array([[13, 14, 15],\n",
      "       [16, 17, 18]])]\n"
     ]
    }
   ],
   "source": [
    "arra = np.array([[1, 2, 3], [4, 5, 6], [7, 8, 9], [10, 11, 12], [13, 14, 15], [16, 17, 18]])\n",
    "arr7 = np.vsplit(arra, 3)\n",
    "print(arr7)\n",
    "# arra split into 9 different array vertically"
   ]
  },
  {
   "cell_type": "code",
   "execution_count": 58,
   "id": "authentic-details",
   "metadata": {},
   "outputs": [
    {
     "name": "stdout",
     "output_type": "stream",
     "text": [
      "(array([ 6,  7,  8,  9, 10, 11, 12, 13, 14, 15, 16, 17]),)\n"
     ]
    }
   ],
   "source": [
    "arra = np.array([1, 2, 3, 4, 5, 6, 7, 8, 9, 10, 11, 12, 13, 14, 15, 16, 17, 18])\n",
    "aee = np.where(arra > 6)\n",
    "print(aee)\n",
    "# the array it prints give the position of the array not value"
   ]
  },
  {
   "cell_type": "code",
   "execution_count": 59,
   "id": "grateful-profession",
   "metadata": {},
   "outputs": [
    {
     "name": "stdout",
     "output_type": "stream",
     "text": [
      "8\n"
     ]
    }
   ],
   "source": [
    "print(np.searchsorted(arra, 9))"
   ]
  },
  {
   "cell_type": "code",
   "execution_count": 60,
   "id": "excited-adaptation",
   "metadata": {},
   "outputs": [
    {
     "name": "stdout",
     "output_type": "stream",
     "text": [
      "9\n"
     ]
    }
   ],
   "source": [
    "print(np.searchsorted(arra, 9, side='right'))"
   ]
  },
  {
   "cell_type": "code",
   "execution_count": 61,
   "id": "jewish-season",
   "metadata": {},
   "outputs": [
    {
     "name": "stdout",
     "output_type": "stream",
     "text": [
      "[0 1 2]\n"
     ]
    }
   ],
   "source": [
    "print(np.searchsorted(arra, [1,2,3]))"
   ]
  },
  {
   "cell_type": "code",
   "execution_count": 64,
   "id": "developing-korean",
   "metadata": {},
   "outputs": [
    {
     "name": "stdout",
     "output_type": "stream",
     "text": [
      "[   1    2    3    4    5    6    7    8    8    9    9    9   12   21\n",
      "   34 1212]\n"
     ]
    }
   ],
   "source": [
    "print(np.sort(arra))"
   ]
  },
  {
   "cell_type": "code",
   "execution_count": 65,
   "id": "prepared-stupid",
   "metadata": {},
   "outputs": [
    {
     "name": "stdout",
     "output_type": "stream",
     "text": [
      "[1]\n"
     ]
    }
   ],
   "source": [
    "# filtering \n",
    "\n",
    "arr10 = np.array([1, 4, 6, 7])\n",
    "a_x = [True, False, False, False]\n",
    "\n",
    "print(arr10[a_x])"
   ]
  },
  {
   "cell_type": "code",
   "execution_count": 72,
   "id": "judicial-necessity",
   "metadata": {},
   "outputs": [
    {
     "name": "stdout",
     "output_type": "stream",
     "text": [
      "[54 67 71 90]\n"
     ]
    }
   ],
   "source": [
    "# filtering \n",
    "\n",
    "arr10 = np.array([1, 41, 16, 71, 54, 67, 22, 90])\n",
    "arr10 = np.sort(arr10)\n",
    "a_x = []\n",
    "for i in arr10:\n",
    "    if i > 45:\n",
    "        a_x.append(True)\n",
    "    else:\n",
    "        a_x.append(False)\n",
    "\n",
    "print(np.sort(arr10[a_x]))"
   ]
  },
  {
   "cell_type": "code",
   "execution_count": null,
   "id": "surgical-convergence",
   "metadata": {},
   "outputs": [],
   "source": []
  }
 ],
 "metadata": {
  "kernelspec": {
   "display_name": "ml_venv",
   "language": "python",
   "name": "ml_venv"
  },
  "language_info": {
   "codemirror_mode": {
    "name": "ipython",
    "version": 3
   },
   "file_extension": ".py",
   "mimetype": "text/x-python",
   "name": "python",
   "nbconvert_exporter": "python",
   "pygments_lexer": "ipython3",
   "version": "3.8.5"
  }
 },
 "nbformat": 4,
 "nbformat_minor": 5
}
