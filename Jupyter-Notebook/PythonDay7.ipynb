{
 "cells": [
  {
   "cell_type": "markdown",
   "id": "sonic-explanation",
   "metadata": {},
   "source": [
    "# Numpy continue..."
   ]
  },
  {
   "cell_type": "code",
   "execution_count": 1,
   "id": "unexpected-nightmare",
   "metadata": {},
   "outputs": [],
   "source": [
    "import numpy as np"
   ]
  },
  {
   "cell_type": "code",
   "execution_count": 4,
   "id": "fabulous-morgan",
   "metadata": {},
   "outputs": [
    {
     "name": "stdout",
     "output_type": "stream",
     "text": [
      "[7 9 11 13 15]\n"
     ]
    }
   ],
   "source": [
    "def myadd(x,y):\n",
    "    return x+y\n",
    "\n",
    "myadd = np.frompyfunc(myadd, 2, 1)\n",
    "\n",
    "print(myadd([1,2,3,4,5],[6,7,8,9,10]))"
   ]
  },
  {
   "cell_type": "code",
   "execution_count": 16,
   "id": "small-transsexual",
   "metadata": {},
   "outputs": [],
   "source": [
    "arr1 = np.array([1, 2, 3, 4, 5, 6])\n",
    "arr2 = np.array([10, 20, 30, 40, 50, 60])"
   ]
  },
  {
   "cell_type": "code",
   "execution_count": 20,
   "id": "greater-cache",
   "metadata": {},
   "outputs": [
    {
     "name": "stdout",
     "output_type": "stream",
     "text": [
      "[ 1  2  3  4  5  6 10 20 30 40 50 60]\n"
     ]
    }
   ],
   "source": [
    "arr3 = np.concatenate((arr1, arr2), axis=0)\n",
    "print(arr3)"
   ]
  },
  {
   "cell_type": "code",
   "execution_count": 25,
   "id": "champion-roots",
   "metadata": {},
   "outputs": [],
   "source": [
    "arr1 = np.array([[1, 2, 3, 4, 5, 6], [12, 22, 32, 42, 52, 62]])\n",
    "arr2 = np.array([[10, 20, 30, 40, 50, 60]])"
   ]
  },
  {
   "cell_type": "code",
   "execution_count": 27,
   "id": "welcome-attribute",
   "metadata": {},
   "outputs": [
    {
     "name": "stdout",
     "output_type": "stream",
     "text": [
      "[[ 1  2  3  4  5  6]\n",
      " [12 22 32 42 52 62]\n",
      " [10 20 30 40 50 60]]\n"
     ]
    }
   ],
   "source": [
    "arr3 = np.concatenate((arr1, arr2), axis=0)\n",
    "print(arr3)"
   ]
  },
  {
   "cell_type": "code",
   "execution_count": 30,
   "id": "rough-force",
   "metadata": {},
   "outputs": [
    {
     "name": "stdout",
     "output_type": "stream",
     "text": [
      "[ 1  2  3  4  5  6 12 22 32 42 52 62 10 20 30 40 50 60]\n"
     ]
    }
   ],
   "source": [
    "arr3 = np.concatenate((arr1, arr2), axis=None)\n",
    "print(arr3)"
   ]
  },
  {
   "cell_type": "code",
   "execution_count": 36,
   "id": "portuguese-stationery",
   "metadata": {},
   "outputs": [
    {
     "name": "stdout",
     "output_type": "stream",
     "text": [
      "[[ 1  2  3  4  5  6 43]\n",
      " [12 22 32 42 52 62 54]]\n"
     ]
    }
   ],
   "source": [
    "arr2 = np.array([[43, 54]])\n",
    "arr3 = np.concatenate((arr1, arr2.T), axis=1)\n",
    "print(arr3)"
   ]
  },
  {
   "cell_type": "code",
   "execution_count": 38,
   "id": "placed-introduction",
   "metadata": {},
   "outputs": [
    {
     "data": {
      "text/plain": [
       "array([[ 11,  22,  33,  44,  55,  66],\n",
       "       [ 22,  42,  62,  82, 102, 122]])"
      ]
     },
     "execution_count": 38,
     "metadata": {},
     "output_type": "execute_result"
    }
   ],
   "source": [
    "arr1 = np.array([[1, 2, 3, 4, 5, 6], [12, 22, 32, 42, 52, 62]])\n",
    "arr2 = np.array([[10, 20, 30, 40, 50, 60]])\n",
    "np.add(arr1,arr2)"
   ]
  },
  {
   "cell_type": "code",
   "execution_count": 41,
   "id": "compliant-genius",
   "metadata": {},
   "outputs": [
    {
     "data": {
      "text/plain": [
       "array([[ 9, 18, 27, 36, 45, 54],\n",
       "       [-2, -2, -2, -2, -2, -2]])"
      ]
     },
     "execution_count": 41,
     "metadata": {},
     "output_type": "execute_result"
    }
   ],
   "source": [
    "np.subtract(arr2,arr1)"
   ]
  },
  {
   "cell_type": "code",
   "execution_count": 42,
   "id": "applicable-coating",
   "metadata": {},
   "outputs": [
    {
     "data": {
      "text/plain": [
       "array([[  10,   40,   90,  160,  250,  360],\n",
       "       [ 120,  440,  960, 1680, 2600, 3720]])"
      ]
     },
     "execution_count": 42,
     "metadata": {},
     "output_type": "execute_result"
    }
   ],
   "source": [
    "np.multiply(arr1,arr2)"
   ]
  },
  {
   "cell_type": "code",
   "execution_count": 43,
   "id": "dominant-lincoln",
   "metadata": {},
   "outputs": [
    {
     "data": {
      "text/plain": [
       "array([[0.1       , 0.1       , 0.1       , 0.1       , 0.1       ,\n",
       "        0.1       ],\n",
       "       [1.2       , 1.1       , 1.06666667, 1.05      , 1.04      ,\n",
       "        1.03333333]])"
      ]
     },
     "execution_count": 43,
     "metadata": {},
     "output_type": "execute_result"
    }
   ],
   "source": [
    "np.divide(arr1,arr2)"
   ]
  },
  {
   "cell_type": "code",
   "execution_count": 44,
   "id": "lucky-cornwall",
   "metadata": {},
   "outputs": [
    {
     "data": {
      "text/plain": [
       "array([[                   1,                    4,                   27,\n",
       "                         256,                 3125,                46656],\n",
       "       [                   1,              4194304,     1853020188851841,\n",
       "                           0, -3394226340030730831,  4611686018427387904]])"
      ]
     },
     "execution_count": 44,
     "metadata": {},
     "output_type": "execute_result"
    }
   ],
   "source": [
    "arr1 = np.array([[1, 2, 3, 4, 5, 6], [12, 22, 32, 42, 52, 62]])\n",
    "arr2 = np.array([[1, 2, 3, 4, 5, 6]])\n",
    "np.power(arr2,arr1)"
   ]
  },
  {
   "cell_type": "code",
   "execution_count": 47,
   "id": "frequent-rugby",
   "metadata": {},
   "outputs": [
    {
     "name": "stdout",
     "output_type": "stream",
     "text": [
      "[[1 2 3 4 5 6]\n",
      " [2 2 2 2 2 2]]\n",
      "[[1 2 3 4 5 6]\n",
      " [2 2 2 2 2 2]]\n"
     ]
    }
   ],
   "source": [
    "arr1 = np.array([[1, 2, 3, 4, 5, 6], [12, 22, 32, 42, 52, 62]])\n",
    "arr2 = np.array([[10, 20, 30, 40, 50, 60]])\n",
    "print(np.mod(arr1,arr2))\n",
    "print(np.remainder(arr1,arr2))"
   ]
  },
  {
   "cell_type": "code",
   "execution_count": 49,
   "id": "realistic-retailer",
   "metadata": {},
   "outputs": [
    {
     "data": {
      "text/plain": [
       "(array([[0, 0, 0, 0, 0, 0],\n",
       "        [1, 1, 1, 1, 1, 1]]),\n",
       " array([[1, 2, 3, 4, 5, 6],\n",
       "        [2, 2, 2, 2, 2, 2]]))"
      ]
     },
     "execution_count": 49,
     "metadata": {},
     "output_type": "execute_result"
    }
   ],
   "source": [
    "np.divmod(arr1,arr2)\n",
    "# prints quotient and mod"
   ]
  },
  {
   "cell_type": "code",
   "execution_count": 50,
   "id": "available-territory",
   "metadata": {},
   "outputs": [
    {
     "data": {
      "text/plain": [
       "array([[ 1,  2,  3,  4,  5,  6],\n",
       "       [12, 22, 32, 42, 52, 62]])"
      ]
     },
     "execution_count": 50,
     "metadata": {},
     "output_type": "execute_result"
    }
   ],
   "source": [
    "np.absolute(arr1)"
   ]
  },
  {
   "cell_type": "code",
   "execution_count": 52,
   "id": "center-cargo",
   "metadata": {},
   "outputs": [
    {
     "name": "stdout",
     "output_type": "stream",
     "text": [
      "[-3.  3.]\n"
     ]
    }
   ],
   "source": [
    "arr = np.trunc([-3.1666, 3.6667])\n",
    "print(arr)"
   ]
  },
  {
   "cell_type": "code",
   "execution_count": 53,
   "id": "closing-surrey",
   "metadata": {},
   "outputs": [
    {
     "name": "stdout",
     "output_type": "stream",
     "text": [
      "[-3.  3.]\n"
     ]
    }
   ],
   "source": [
    "arr = np.fix([-3.1666, 3.6667])\n",
    "\n",
    "print(arr)"
   ]
  },
  {
   "cell_type": "code",
   "execution_count": 54,
   "id": "ambient-subdivision",
   "metadata": {},
   "outputs": [
    {
     "name": "stdout",
     "output_type": "stream",
     "text": [
      "3.17\n"
     ]
    }
   ],
   "source": [
    "arr = np.around(3.1666, 2)\n",
    "\n",
    "print(arr)"
   ]
  },
  {
   "cell_type": "code",
   "execution_count": 56,
   "id": "sustainable-activation",
   "metadata": {},
   "outputs": [
    {
     "data": {
      "text/plain": [
       "array([-4.,  3.])"
      ]
     },
     "execution_count": 56,
     "metadata": {},
     "output_type": "execute_result"
    }
   ],
   "source": [
    "arr = np.floor([-3.1666, 3.6667])\n",
    "arr"
   ]
  },
  {
   "cell_type": "code",
   "execution_count": 58,
   "id": "unlimited-identity",
   "metadata": {},
   "outputs": [
    {
     "data": {
      "text/plain": [
       "array([-3.,  4.])"
      ]
     },
     "execution_count": 58,
     "metadata": {},
     "output_type": "execute_result"
    }
   ],
   "source": [
    "arr = np.ceil([-3.1666, 3.6667])\n",
    "arr"
   ]
  },
  {
   "cell_type": "code",
   "execution_count": 59,
   "id": "tough-california",
   "metadata": {},
   "outputs": [
    {
     "data": {
      "text/plain": [
       "2.4849066497880004"
      ]
     },
     "execution_count": 59,
     "metadata": {},
     "output_type": "execute_result"
    }
   ],
   "source": [
    "np.log(12)"
   ]
  },
  {
   "cell_type": "code",
   "execution_count": 60,
   "id": "genuine-dependence",
   "metadata": {},
   "outputs": [
    {
     "data": {
      "text/plain": [
       "3.584962500721156"
      ]
     },
     "execution_count": 60,
     "metadata": {},
     "output_type": "execute_result"
    }
   ],
   "source": [
    "np.log2(12)"
   ]
  },
  {
   "cell_type": "code",
   "execution_count": 61,
   "id": "objective-saver",
   "metadata": {},
   "outputs": [
    {
     "data": {
      "text/plain": [
       "1.0791812460476249"
      ]
     },
     "execution_count": 61,
     "metadata": {},
     "output_type": "execute_result"
    }
   ],
   "source": [
    "np.log10(12)"
   ]
  },
  {
   "cell_type": "code",
   "execution_count": 67,
   "id": "actual-gravity",
   "metadata": {},
   "outputs": [
    {
     "name": "stdout",
     "output_type": "stream",
     "text": [
      "1.0791812460476247\n",
      "3.5849625007211565\n"
     ]
    }
   ],
   "source": [
    "from math import log\n",
    "logarithm = np.frompyfunc(log,2,1)\n",
    "print(logarithm(12,10))\n",
    "print(logarithm(12,2))"
   ]
  },
  {
   "cell_type": "code",
   "execution_count": 68,
   "id": "bacterial-string",
   "metadata": {},
   "outputs": [],
   "source": [
    "arr1 = np.array([[1, 2, 3, 4, 5, 6], [12, 22, 32, 42, 52, 62]])\n",
    "arr2 = np.sum(arr1)"
   ]
  },
  {
   "cell_type": "code",
   "execution_count": 69,
   "id": "endless-touch",
   "metadata": {},
   "outputs": [
    {
     "data": {
      "text/plain": [
       "243"
      ]
     },
     "execution_count": 69,
     "metadata": {},
     "output_type": "execute_result"
    }
   ],
   "source": [
    "arr2"
   ]
  },
  {
   "cell_type": "code",
   "execution_count": 70,
   "id": "healthy-plant",
   "metadata": {},
   "outputs": [
    {
     "data": {
      "text/plain": [
       "array([  1,   3,   6,  10,  15,  21,  33,  55,  87, 129, 181, 243])"
      ]
     },
     "execution_count": 70,
     "metadata": {},
     "output_type": "execute_result"
    }
   ],
   "source": [
    "arr3 = np.cumsum(arr1)\n",
    "arr3"
   ]
  },
  {
   "cell_type": "code",
   "execution_count": 72,
   "id": "proprietary-ottawa",
   "metadata": {},
   "outputs": [
    {
     "data": {
      "text/plain": [
       "823627284480"
      ]
     },
     "execution_count": 72,
     "metadata": {},
     "output_type": "execute_result"
    }
   ],
   "source": [
    "arr4 = np.prod(arr1)\n",
    "arr4"
   ]
  },
  {
   "cell_type": "code",
   "execution_count": 74,
   "id": "certified-brief",
   "metadata": {},
   "outputs": [
    {
     "data": {
      "text/plain": [
       "array([           1,            2,            6,           24,\n",
       "                120,          720,         8640,       190080,\n",
       "            6082560,    255467520,  13284311040, 823627284480])"
      ]
     },
     "execution_count": 74,
     "metadata": {},
     "output_type": "execute_result"
    }
   ],
   "source": [
    "arr5 = np.cumprod(arr1)\n",
    "arr5"
   ]
  },
  {
   "cell_type": "code",
   "execution_count": 75,
   "id": "champion-convert",
   "metadata": {},
   "outputs": [
    {
     "data": {
      "text/plain": [
       "array([[ 1,  1,  1,  1,  1],\n",
       "       [10, 10, 10, 10, 10]])"
      ]
     },
     "execution_count": 75,
     "metadata": {},
     "output_type": "execute_result"
    }
   ],
   "source": [
    "np.diff(arr1)"
   ]
  },
  {
   "cell_type": "code",
   "execution_count": 83,
   "id": "champion-leeds",
   "metadata": {},
   "outputs": [
    {
     "data": {
      "text/plain": [
       "24"
      ]
     },
     "execution_count": 83,
     "metadata": {},
     "output_type": "execute_result"
    }
   ],
   "source": [
    "np.lcm(8,6)"
   ]
  },
  {
   "cell_type": "code",
   "execution_count": 84,
   "id": "affected-certificate",
   "metadata": {},
   "outputs": [
    {
     "data": {
      "text/plain": [
       "18"
      ]
     },
     "execution_count": 84,
     "metadata": {},
     "output_type": "execute_result"
    }
   ],
   "source": [
    "np.lcm.reduce([3,6,9])"
   ]
  },
  {
   "cell_type": "code",
   "execution_count": 77,
   "id": "caroline-falls",
   "metadata": {},
   "outputs": [
    {
     "data": {
      "text/plain": [
       "2"
      ]
     },
     "execution_count": 77,
     "metadata": {},
     "output_type": "execute_result"
    }
   ],
   "source": [
    "np.gcd(14,80)"
   ]
  },
  {
   "cell_type": "code",
   "execution_count": 85,
   "id": "executive-driver",
   "metadata": {},
   "outputs": [
    {
     "data": {
      "text/plain": [
       "4"
      ]
     },
     "execution_count": 85,
     "metadata": {},
     "output_type": "execute_result"
    }
   ],
   "source": [
    "np.gcd.reduce([12,32,56])"
   ]
  },
  {
   "cell_type": "code",
   "execution_count": 88,
   "id": "rational-darwin",
   "metadata": {},
   "outputs": [
    {
     "data": {
      "text/plain": [
       "1.0"
      ]
     },
     "execution_count": 88,
     "metadata": {},
     "output_type": "execute_result"
    }
   ],
   "source": [
    "x = np.sin(np.pi/2)\n",
    "x"
   ]
  },
  {
   "cell_type": "code",
   "execution_count": 104,
   "id": "piano-singapore",
   "metadata": {},
   "outputs": [
    {
     "data": {
      "text/plain": [
       "array([0.        , 1.57079633, 3.14159265, 4.71238898, 6.28318531])"
      ]
     },
     "execution_count": 104,
     "metadata": {},
     "output_type": "execute_result"
    }
   ],
   "source": [
    "deg = np.array([0, 90, 180, 270, 360])\n",
    "\n",
    "rad = np.deg2rad(deg)\n",
    "rad"
   ]
  },
  {
   "cell_type": "code",
   "execution_count": 105,
   "id": "improving-precipitation",
   "metadata": {},
   "outputs": [
    {
     "data": {
      "text/plain": [
       "array([  0.,  90., 180., 270., 360.])"
      ]
     },
     "execution_count": 105,
     "metadata": {},
     "output_type": "execute_result"
    }
   ],
   "source": [
    "np.rad2deg(rad)"
   ]
  },
  {
   "cell_type": "code",
   "execution_count": 109,
   "id": "following-distinction",
   "metadata": {},
   "outputs": [
    {
     "data": {
      "text/plain": [
       "1.5707963267948966"
      ]
     },
     "execution_count": 109,
     "metadata": {},
     "output_type": "execute_result"
    }
   ],
   "source": [
    "np.arcsin(1)"
   ]
  },
  {
   "cell_type": "code",
   "execution_count": 110,
   "id": "random-veteran",
   "metadata": {},
   "outputs": [
    {
     "data": {
      "text/plain": [
       "5.0"
      ]
     },
     "execution_count": 110,
     "metadata": {},
     "output_type": "execute_result"
    }
   ],
   "source": [
    "np.hypot(3,4)"
   ]
  },
  {
   "cell_type": "code",
   "execution_count": 111,
   "id": "going-international",
   "metadata": {},
   "outputs": [
    {
     "data": {
      "text/plain": [
       "81377.39570642984"
      ]
     },
     "execution_count": 111,
     "metadata": {},
     "output_type": "execute_result"
    }
   ],
   "source": [
    "np.sinh(12)"
   ]
  },
  {
   "cell_type": "code",
   "execution_count": 112,
   "id": "temporal-authority",
   "metadata": {},
   "outputs": [
    {
     "data": {
      "text/plain": [
       "array([1, 2, 3, 4, 5, 6, 7])"
      ]
     },
     "execution_count": 112,
     "metadata": {},
     "output_type": "execute_result"
    }
   ],
   "source": [
    "arr = np.array([1, 1, 1, 2, 3, 4, 5, 5, 6, 7])\n",
    "np.unique(arr)"
   ]
  },
  {
   "cell_type": "code",
   "execution_count": 116,
   "id": "incident-optics",
   "metadata": {},
   "outputs": [
    {
     "data": {
      "text/plain": [
       "array([ 1,  2,  3,  4,  5,  6,  7, 11, 22, 33, 44, 55, 66, 77])"
      ]
     },
     "execution_count": 116,
     "metadata": {},
     "output_type": "execute_result"
    }
   ],
   "source": [
    "arr1 = np.array([1, 1, 1, 2, 3, 4, 5, 5, 6, 7])\n",
    "arr2 = np.array([11, 11, 11, 22, 33, 44, 55, 55, 66, 77])\n",
    "\n",
    "np.union1d(arr1,arr2)"
   ]
  },
  {
   "cell_type": "code",
   "execution_count": 119,
   "id": "civic-constant",
   "metadata": {},
   "outputs": [
    {
     "data": {
      "text/plain": [
       "array([1])"
      ]
     },
     "execution_count": 119,
     "metadata": {},
     "output_type": "execute_result"
    }
   ],
   "source": [
    "arr1 = np.array([1, 1, 1, 2, 3, 4, 5, 5, 6, 7])\n",
    "arr2 = np.array([1, 11, 11, 22, 33, 44, 55, 55, 66, 77])\n",
    "\n",
    "np.intersect1d(arr1,arr2)"
   ]
  },
  {
   "cell_type": "code",
   "execution_count": 120,
   "id": "prepared-desperate",
   "metadata": {},
   "outputs": [
    {
     "data": {
      "text/plain": [
       "array([2, 3, 4, 5, 6, 7])"
      ]
     },
     "execution_count": 120,
     "metadata": {},
     "output_type": "execute_result"
    }
   ],
   "source": [
    "np.setdiff1d(arr1,arr2)"
   ]
  },
  {
   "cell_type": "code",
   "execution_count": 121,
   "id": "abroad-technique",
   "metadata": {},
   "outputs": [
    {
     "data": {
      "text/plain": [
       "array([11, 22, 33, 44, 55, 66, 77])"
      ]
     },
     "execution_count": 121,
     "metadata": {},
     "output_type": "execute_result"
    }
   ],
   "source": [
    "np.setdiff1d(arr2,arr1)"
   ]
  },
  {
   "cell_type": "code",
   "execution_count": 124,
   "id": "parliamentary-edmonton",
   "metadata": {},
   "outputs": [],
   "source": [
    "newarr = np.setxor1d(arr1, arr2, assume_unique=True)\n",
    "# symmetric difference"
   ]
  },
  {
   "cell_type": "code",
   "execution_count": 125,
   "id": "patent-detection",
   "metadata": {},
   "outputs": [
    {
     "data": {
      "text/plain": [
       "array([ 2,  3,  4,  6,  7, 22, 33, 44, 66, 77])"
      ]
     },
     "execution_count": 125,
     "metadata": {},
     "output_type": "execute_result"
    }
   ],
   "source": [
    "newarr"
   ]
  }
 ],
 "metadata": {
  "kernelspec": {
   "display_name": "ml_venv",
   "language": "python",
   "name": "ml_venv"
  },
  "language_info": {
   "codemirror_mode": {
    "name": "ipython",
    "version": 3
   },
   "file_extension": ".py",
   "mimetype": "text/x-python",
   "name": "python",
   "nbconvert_exporter": "python",
   "pygments_lexer": "ipython3",
   "version": "3.8.5"
  }
 },
 "nbformat": 4,
 "nbformat_minor": 5
}
