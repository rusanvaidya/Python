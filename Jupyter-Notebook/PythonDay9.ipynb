{
 "cells": [
  {
   "cell_type": "markdown",
   "id": "anticipated-bread",
   "metadata": {},
   "source": [
    "# BeautifulSoup"
   ]
  },
  {
   "cell_type": "code",
   "execution_count": 1,
   "id": "peaceful-mandate",
   "metadata": {},
   "outputs": [],
   "source": [
    "from bs4 import BeautifulSoup"
   ]
  },
  {
   "cell_type": "code",
   "execution_count": 2,
   "id": "impossible-stroke",
   "metadata": {},
   "outputs": [],
   "source": [
    "# for file handling\n",
    "with open(\"example.html\") as fp:\n",
    "    soup = BeautifulSoup(fp)\n",
    "    \n",
    "# for url\n",
    "# import requests\n",
    "# url = \"https://www.instagram.com/\"\n",
    "# req = requests.get(url)\n",
    "# soup = BeautifulSoup(req.text, \"html.parser\")"
   ]
  },
  {
   "cell_type": "code",
   "execution_count": 103,
   "id": "disabled-treaty",
   "metadata": {},
   "outputs": [
    {
     "name": "stdout",
     "output_type": "stream",
     "text": [
      "<title>Joker</title>\n"
     ]
    }
   ],
   "source": [
    "# print(soup.body)\n",
    "tag = soup.title\n",
    "print(tag)"
   ]
  },
  {
   "cell_type": "code",
   "execution_count": 5,
   "id": "musical-bookmark",
   "metadata": {},
   "outputs": [
    {
     "name": "stdout",
     "output_type": "stream",
     "text": [
      "index.html\n"
     ]
    }
   ],
   "source": [
    "for link in soup.find_all('a'):\n",
    "    print(link.get('href'))"
   ]
  },
  {
   "cell_type": "code",
   "execution_count": 6,
   "id": "emotional-narrow",
   "metadata": {},
   "outputs": [
    {
     "name": "stdout",
     "output_type": "stream",
     "text": [
      "title\n"
     ]
    }
   ],
   "source": [
    "print(tag.name)"
   ]
  },
  {
   "cell_type": "code",
   "execution_count": 7,
   "id": "considerable-shelf",
   "metadata": {},
   "outputs": [
    {
     "name": "stdout",
     "output_type": "stream",
     "text": [
      "['menu']\n",
      "['menu-item']\n",
      "['drop-down-menu']\n",
      "['menu-item']\n",
      "['menu-item']\n",
      "['drop-down-menu']\n",
      "['merodiv']\n",
      "['footer']\n"
     ]
    }
   ],
   "source": [
    "for div in soup.find_all('div'):\n",
    "    print(div.get('class'))"
   ]
  },
  {
   "cell_type": "code",
   "execution_count": 8,
   "id": "cloudy-chest",
   "metadata": {},
   "outputs": [
    {
     "data": {
      "text/plain": [
       "['menu']"
      ]
     },
     "execution_count": 8,
     "metadata": {},
     "output_type": "execute_result"
    }
   ],
   "source": [
    "soup.div['class']"
   ]
  },
  {
   "cell_type": "code",
   "execution_count": 15,
   "id": "another-durham",
   "metadata": {},
   "outputs": [],
   "source": [
    "soup.string"
   ]
  },
  {
   "cell_type": "code",
   "execution_count": 20,
   "id": "fossil-climate",
   "metadata": {},
   "outputs": [],
   "source": [
    "xx = soup.body.div.div.span.string"
   ]
  },
  {
   "cell_type": "code",
   "execution_count": 21,
   "id": "aggregate-christian",
   "metadata": {},
   "outputs": [
    {
     "data": {
      "text/plain": [
       "'Menu Item'"
      ]
     },
     "execution_count": 21,
     "metadata": {},
     "output_type": "execute_result"
    }
   ],
   "source": [
    "xx.string"
   ]
  },
  {
   "cell_type": "code",
   "execution_count": 22,
   "id": "equal-tuning",
   "metadata": {},
   "outputs": [],
   "source": [
    "x = xx.parent"
   ]
  },
  {
   "cell_type": "code",
   "execution_count": 25,
   "id": "charming-italic",
   "metadata": {},
   "outputs": [
    {
     "data": {
      "text/plain": [
       "<div class=\"menu-item\">\n",
       "\t\t    <span>Menu Item</span>\n",
       "\t\t    <div class=\"drop-down-menu\">\n",
       "\t\t      <p>Sub-item</p>\n",
       "\t\t      <p>Sub-item</p>\n",
       "\t\t      <p>Sub-item</p>\n",
       "\t\t    </div>\n",
       "\t\t  </div>"
      ]
     },
     "execution_count": 25,
     "metadata": {},
     "output_type": "execute_result"
    }
   ],
   "source": [
    "x.parent"
   ]
  },
  {
   "cell_type": "code",
   "execution_count": 27,
   "id": "framed-toyota",
   "metadata": {},
   "outputs": [
    {
     "data": {
      "text/plain": [
       "'<span>\\n Menu Item\\n</span>\\n'"
      ]
     },
     "execution_count": 27,
     "metadata": {},
     "output_type": "execute_result"
    }
   ],
   "source": [
    "x.prettify()"
   ]
  },
  {
   "cell_type": "code",
   "execution_count": 31,
   "id": "wicked-vector",
   "metadata": {},
   "outputs": [
    {
     "name": "stdout",
     "output_type": "stream",
     "text": [
      "\n",
      "\t\tjoker\n",
      "\t\t\n",
      "<div class=\"menu\">\n",
      "\t\t  <div class=\"menu-item\">\n",
      "\t\t    <span>Menu Item</span>\n",
      "\t\t    <div class=\"drop-down-menu\">\n",
      "\t\t      <p>Sub-item</p>\n",
      "\t\t      <p>Sub-item</p>\n",
      "\t\t      <p>Sub-item</p>\n",
      "\t\t    </div>\n",
      "\t\t  </div>\n",
      "\t\t  \n",
      "\t\t  <div class=\"menu-item\">\n",
      "\t\t    <span>Menu Item 2</span>\n",
      "\t\t  </div>\n",
      "\t\t  \n",
      "\t\t  <div class=\"menu-item\">\n",
      "\t\t    <span>Menu Item 3</span>\n",
      "\t\t    <div class=\"drop-down-menu\">\n",
      "\t\t      <p>Sub-item</p>\n",
      "\t\t      <p>Sub-item</p>\n",
      "\t\t      <p>Sub-item</p>\n",
      "\t\t    </div>\n",
      "\t\t  </div>\n",
      "\t\t</div>\n",
      "\n",
      "\t\t\n",
      "\t\t\n",
      "<a class=\"linktoindex\" href=\"index.html\"></a>\n",
      "\n",
      "\t\t\n",
      "<div class=\"merodiv\" id=\"my-btn\">\n",
      "\t\t\t<button>Click Me!</button>\n",
      "\t\t</div>\n",
      "\n",
      "\t\t\n",
      "<div class=\"footer\">\n",
      "\t\t\t<button>©</button>\n",
      "\t\t</div>\n",
      "\n",
      "\t\n",
      "\n",
      "\n"
     ]
    }
   ],
   "source": [
    "for i in soup.body.children:\n",
    "    print(i)"
   ]
  },
  {
   "cell_type": "code",
   "execution_count": 32,
   "id": "bright-coach",
   "metadata": {},
   "outputs": [
    {
     "data": {
      "text/plain": [
       "['\\n\\t\\tjoker\\n\\t\\t',\n",
       " <div class=\"menu\">\n",
       " \t\t  <div class=\"menu-item\">\n",
       " \t\t    <span>Menu Item</span>\n",
       " \t\t    <div class=\"drop-down-menu\">\n",
       " \t\t      <p>Sub-item</p>\n",
       " \t\t      <p>Sub-item</p>\n",
       " \t\t      <p>Sub-item</p>\n",
       " \t\t    </div>\n",
       " \t\t  </div>\n",
       " \t\t  \n",
       " \t\t  <div class=\"menu-item\">\n",
       " \t\t    <span>Menu Item 2</span>\n",
       " \t\t  </div>\n",
       " \t\t  \n",
       " \t\t  <div class=\"menu-item\">\n",
       " \t\t    <span>Menu Item 3</span>\n",
       " \t\t    <div class=\"drop-down-menu\">\n",
       " \t\t      <p>Sub-item</p>\n",
       " \t\t      <p>Sub-item</p>\n",
       " \t\t      <p>Sub-item</p>\n",
       " \t\t    </div>\n",
       " \t\t  </div>\n",
       " \t\t</div>,\n",
       " '\\n\\t\\t\\n\\t\\t',\n",
       " <a class=\"linktoindex\" href=\"index.html\"></a>,\n",
       " '\\n\\t\\t',\n",
       " <div class=\"merodiv\" id=\"my-btn\">\n",
       " \t\t\t<button>Click Me!</button>\n",
       " \t\t</div>,\n",
       " '\\n\\t\\t',\n",
       " <div class=\"footer\">\n",
       " \t\t\t<button>©</button>\n",
       " \t\t</div>,\n",
       " '\\n\\t\\n\\n']"
      ]
     },
     "execution_count": 32,
     "metadata": {},
     "output_type": "execute_result"
    }
   ],
   "source": [
    "soup.body.contents"
   ]
  },
  {
   "cell_type": "code",
   "execution_count": 37,
   "id": "iraqi-metabolism",
   "metadata": {},
   "outputs": [
    {
     "name": "stdout",
     "output_type": "stream",
     "text": [
      "\n",
      "\t\t.menu-item:hover .drop-down-menu{\n",
      "\t\t  display: block;\n",
      "\t\t}\n",
      "\t\t.menu-item{\n",
      "\t\t  cursor: pointer;\n",
      "\t\t  height: 50px;\n",
      "\t\t  display: inline-block;\n",
      "\t\t  position: relative;\n",
      "\t\t}\n",
      "\t\t.menu-item:first-child span{\n",
      "\t\t  border:none;\n",
      "\t\t}\n",
      "\t\t.menu-item span{\n",
      "\t\t  border-left: 1px solid black;\n",
      "\t\t  padding: 0 10px;\n",
      "\t\t}\n",
      "\t\t.drop-down-menu{\n",
      "\t\t  display: none;\n",
      "\t\t  width: 100px;\n",
      "\t\t  position: absolute;\n",
      "\t\t  background: white;\n",
      "\t\t  border: 1px solid #301B46;\n",
      "\t\t  padding: 20px;\n",
      "\t\t  top: 40px;\n",
      "\t\t  left: 0px;\n",
      "\t\t}\n",
      "\t\t.drop-down-menu:before {\n",
      "\t\t  content: \"\";\n",
      "\t\t  position: absolute;\n",
      "\t\t  border-color: rgba(194, 225, 245, 0);\n",
      "\t\t  border: solid transparent;\n",
      "\t\t  border-bottom-color: white;\n",
      "\t\t  border-width: 11px;\n",
      "\t\t  margin-left: -10px;\n",
      "\t\t  top: -21px;\n",
      "\t\t  right: 65px;\n",
      "\t\t  z-index: 1;\n",
      "\t\t} \n",
      "\n",
      "\t\t.drop-down-menu:after {\n",
      "\t\t    content: \"\";\n",
      "\t\t    position: absolute;\n",
      "\t\t    right: 66px;\n",
      "\t\t    top: -21px;\n",
      "\t\t    width: 0;\n",
      "\t\t    height: 0;\n",
      "\t\t    border: solid transparent;\n",
      "\t\t    border-width: 10px;\n",
      "\t\t    border-bottom-color: #2B1A41;\n",
      "\t\t    z-index: 0;\n",
      "\t\t}\n",
      "\t\n",
      "\n",
      "\t\n",
      "\t\n",
      "\t\t\n",
      "Joker\n",
      "\n",
      "\t\n",
      "\n",
      "\t\n",
      "\n",
      "\t\tjoker\n",
      "\t\t\n",
      "\n",
      "\t\t  \n",
      "\n",
      "\t\t    \n",
      "Menu Item\n",
      "\n",
      "\t\t    \n",
      "\n",
      "\t\t      \n",
      "Sub-item\n",
      "\n",
      "\t\t      \n",
      "Sub-item\n",
      "\n",
      "\t\t      \n",
      "Sub-item\n",
      "\n",
      "\t\t    \n",
      "\n",
      "\t\t  \n",
      "\n",
      "\t\t  \n",
      "\t\t  \n",
      "\n",
      "\t\t    \n",
      "Menu Item 2\n",
      "\n",
      "\t\t  \n",
      "\n",
      "\t\t  \n",
      "\t\t  \n",
      "\n",
      "\t\t    \n",
      "Menu Item 3\n",
      "\n",
      "\t\t    \n",
      "\n",
      "\t\t      \n",
      "Sub-item\n",
      "\n",
      "\t\t      \n",
      "Sub-item\n",
      "\n",
      "\t\t      \n",
      "Sub-item\n",
      "\n",
      "\t\t    \n",
      "\n",
      "\t\t  \n",
      "\n",
      "\t\t\n",
      "\n",
      "\t\t\n",
      "\t\t\n",
      "\n",
      "\t\t\n",
      "\n",
      "\t\t\t\n",
      "Click Me!\n",
      "\n",
      "\t\t\n",
      "\n",
      "\t\t\n",
      "\n",
      "\t\t\t\n",
      "©\n",
      "\n",
      "\t\t\n",
      "\n",
      "\t\n",
      "\n",
      "\n"
     ]
    }
   ],
   "source": [
    "for string in soup.strings:\n",
    "    print(string)"
   ]
  },
  {
   "cell_type": "code",
   "execution_count": 39,
   "id": "dynamic-bidding",
   "metadata": {},
   "outputs": [
    {
     "data": {
      "text/plain": [
       "[<div class=\"menu\">\n",
       " \t\t  <div class=\"menu-item\">\n",
       " \t\t    <span>Menu Item</span>\n",
       " \t\t    <div class=\"drop-down-menu\">\n",
       " \t\t      <p>Sub-item</p>\n",
       " \t\t      <p>Sub-item</p>\n",
       " \t\t      <p>Sub-item</p>\n",
       " \t\t    </div>\n",
       " \t\t  </div>\n",
       " \t\t  \n",
       " \t\t  <div class=\"menu-item\">\n",
       " \t\t    <span>Menu Item 2</span>\n",
       " \t\t  </div>\n",
       " \t\t  \n",
       " \t\t  <div class=\"menu-item\">\n",
       " \t\t    <span>Menu Item 3</span>\n",
       " \t\t    <div class=\"drop-down-menu\">\n",
       " \t\t      <p>Sub-item</p>\n",
       " \t\t      <p>Sub-item</p>\n",
       " \t\t      <p>Sub-item</p>\n",
       " \t\t    </div>\n",
       " \t\t  </div>\n",
       " \t\t</div>,\n",
       " <div class=\"menu-item\">\n",
       " \t\t    <span>Menu Item</span>\n",
       " \t\t    <div class=\"drop-down-menu\">\n",
       " \t\t      <p>Sub-item</p>\n",
       " \t\t      <p>Sub-item</p>\n",
       " \t\t      <p>Sub-item</p>\n",
       " \t\t    </div>\n",
       " \t\t  </div>,\n",
       " <div class=\"drop-down-menu\">\n",
       " \t\t      <p>Sub-item</p>\n",
       " \t\t      <p>Sub-item</p>\n",
       " \t\t      <p>Sub-item</p>\n",
       " \t\t    </div>,\n",
       " <div class=\"menu-item\">\n",
       " \t\t    <span>Menu Item 2</span>\n",
       " \t\t  </div>,\n",
       " <div class=\"menu-item\">\n",
       " \t\t    <span>Menu Item 3</span>\n",
       " \t\t    <div class=\"drop-down-menu\">\n",
       " \t\t      <p>Sub-item</p>\n",
       " \t\t      <p>Sub-item</p>\n",
       " \t\t      <p>Sub-item</p>\n",
       " \t\t    </div>\n",
       " \t\t  </div>,\n",
       " <div class=\"drop-down-menu\">\n",
       " \t\t      <p>Sub-item</p>\n",
       " \t\t      <p>Sub-item</p>\n",
       " \t\t      <p>Sub-item</p>\n",
       " \t\t    </div>,\n",
       " <div class=\"merodiv\" id=\"my-btn\">\n",
       " \t\t\t<button>Click Me!</button>\n",
       " \t\t</div>,\n",
       " <div class=\"footer\">\n",
       " \t\t\t<button>©</button>\n",
       " \t\t</div>]"
      ]
     },
     "execution_count": 39,
     "metadata": {},
     "output_type": "execute_result"
    }
   ],
   "source": [
    "import re\n",
    "\n",
    "soup.find_all(re.compile('^d'))"
   ]
  },
  {
   "cell_type": "code",
   "execution_count": 45,
   "id": "bound-demographic",
   "metadata": {},
   "outputs": [
    {
     "name": "stdout",
     "output_type": "stream",
     "text": [
      "html\n",
      "head\n",
      "style\n",
      "title\n",
      "body\n",
      "div\n",
      "div\n",
      "span\n",
      "div\n",
      "p\n",
      "p\n",
      "p\n",
      "div\n",
      "span\n",
      "div\n",
      "span\n",
      "div\n",
      "p\n",
      "p\n",
      "p\n",
      "a\n",
      "div\n",
      "button\n",
      "div\n",
      "button\n"
     ]
    }
   ],
   "source": [
    "for tag in soup.find_all(True):\n",
    "    print(tag.name)\n",
    "# find_all(name, attrs, recursive, string, limit, **kwargs)\n",
    "# find(name, attrs, recursive, string, **kwargs)"
   ]
  },
  {
   "cell_type": "markdown",
   "id": "inappropriate-pontiac",
   "metadata": {},
   "source": [
    "# find_parents() and find_parent()\n",
    "Unlike the find_all() and find() methods which traverse the tree, looking at tag’s descendents, find_parents() and find_parents methods() do the opposite, they traverse the tree upwards and look at a tag’s (or a string’s) parents."
   ]
  },
  {
   "cell_type": "markdown",
   "id": "primary-kazakhstan",
   "metadata": {},
   "source": [
    "find_next_siblings() and find_next_sibling() methods will iterate over all the siblings of the element that come after the current one.\n",
    "\n",
    "find_previous_siblings() and find_previous_sibling() methods will iterate over all the siblings that come before the current element.\n",
    "\n",
    "find_all_next() and find_next() methods will iterate over all the tags and strings that come after the current element.\n",
    "\n",
    "find_all_previous and find_previous() methods will iterate over all the tags and strings that come before the current element."
   ]
  },
  {
   "cell_type": "markdown",
   "id": "greater-interpretation",
   "metadata": {},
   "source": [
    "# CSS Selector"
   ]
  },
  {
   "cell_type": "code",
   "execution_count": 46,
   "id": "entitled-macro",
   "metadata": {},
   "outputs": [
    {
     "data": {
      "text/plain": [
       "[<title>Joker</title>]"
      ]
     },
     "execution_count": 46,
     "metadata": {},
     "output_type": "execute_result"
    }
   ],
   "source": [
    "soup.select('title')"
   ]
  },
  {
   "cell_type": "code",
   "execution_count": 60,
   "id": "missing-slave",
   "metadata": {},
   "outputs": [
    {
     "data": {
      "text/plain": [
       "[<button>Click Me!</button>, <button>©</button>]"
      ]
     },
     "execution_count": 60,
     "metadata": {},
     "output_type": "execute_result"
    }
   ],
   "source": [
    "soup.select('button:nth-of-type(1)')"
   ]
  },
  {
   "cell_type": "code",
   "execution_count": 65,
   "id": "norman-causing",
   "metadata": {},
   "outputs": [],
   "source": [
    "r = soup.select('html body div:nth-of-type(3)')\n",
    "# prints the 3rd div element"
   ]
  },
  {
   "cell_type": "code",
   "execution_count": 73,
   "id": "intellectual-flash",
   "metadata": {},
   "outputs": [],
   "source": [
    "soup.html.body.div['class'] = 'menu2'"
   ]
  },
  {
   "cell_type": "code",
   "execution_count": 74,
   "id": "affecting-satellite",
   "metadata": {},
   "outputs": [
    {
     "data": {
      "text/plain": [
       "<div class=\"menu2\">\n",
       "\t\t  <div class=\"menu-item\">\n",
       "\t\t    <span>Menu Item</span>\n",
       "\t\t    <div class=\"drop-down-menu\">\n",
       "\t\t      <p>Sub-item</p>\n",
       "\t\t      <p>Sub-item</p>\n",
       "\t\t      <p>Sub-item</p>\n",
       "\t\t    </div>\n",
       "\t\t  </div>\n",
       "\t\t  \n",
       "\t\t  <div class=\"menu-item\">\n",
       "\t\t    <span>Menu Item 2</span>\n",
       "\t\t  </div>\n",
       "\t\t  \n",
       "\t\t  <div class=\"menu-item\">\n",
       "\t\t    <span>Menu Item 3</span>\n",
       "\t\t    <div class=\"drop-down-menu\">\n",
       "\t\t      <p>Sub-item</p>\n",
       "\t\t      <p>Sub-item</p>\n",
       "\t\t      <p>Sub-item</p>\n",
       "\t\t    </div>\n",
       "\t\t  </div>\n",
       "\t\t</div>"
      ]
     },
     "execution_count": 74,
     "metadata": {},
     "output_type": "execute_result"
    }
   ],
   "source": [
    "soup.div"
   ]
  },
  {
   "cell_type": "code",
   "execution_count": 84,
   "id": "liable-celtic",
   "metadata": {},
   "outputs": [],
   "source": [
    "from bs4 import NavigableString, Comment\n",
    "new_context = NavigableString(\"Hello WOrld\")\n",
    "new_comm = Comment(\"Y2J\")\n",
    "soup.div.append(new_context)\n",
    "soup.div.append(new_comm)"
   ]
  },
  {
   "cell_type": "code",
   "execution_count": 85,
   "id": "italian-castle",
   "metadata": {},
   "outputs": [
    {
     "data": {
      "text/plain": [
       "['\\n\\t\\t\\t', <button>©</button>, '\\n\\t\\t']"
      ]
     },
     "execution_count": 85,
     "metadata": {},
     "output_type": "execute_result"
    }
   ],
   "source": [
    "div.contents"
   ]
  },
  {
   "cell_type": "code",
   "execution_count": 90,
   "id": "respective-jenny",
   "metadata": {},
   "outputs": [],
   "source": [
    "newtag = soup.new_tag(\"h1\")"
   ]
  },
  {
   "cell_type": "code",
   "execution_count": 91,
   "id": "popular-monaco",
   "metadata": {
    "scrolled": true
   },
   "outputs": [],
   "source": [
    "div.append(newtag)"
   ]
  },
  {
   "cell_type": "code",
   "execution_count": 92,
   "id": "killing-savannah",
   "metadata": {},
   "outputs": [
    {
     "data": {
      "text/plain": [
       "<html><head><style>\n",
       "\t\t.menu-item:hover .drop-down-menu{\n",
       "\t\t  display: block;\n",
       "\t\t}\n",
       "\t\t.menu-item{\n",
       "\t\t  cursor: pointer;\n",
       "\t\t  height: 50px;\n",
       "\t\t  display: inline-block;\n",
       "\t\t  position: relative;\n",
       "\t\t}\n",
       "\t\t.menu-item:first-child span{\n",
       "\t\t  border:none;\n",
       "\t\t}\n",
       "\t\t.menu-item span{\n",
       "\t\t  border-left: 1px solid black;\n",
       "\t\t  padding: 0 10px;\n",
       "\t\t}\n",
       "\t\t.drop-down-menu{\n",
       "\t\t  display: none;\n",
       "\t\t  width: 100px;\n",
       "\t\t  position: absolute;\n",
       "\t\t  background: white;\n",
       "\t\t  border: 1px solid #301B46;\n",
       "\t\t  padding: 20px;\n",
       "\t\t  top: 40px;\n",
       "\t\t  left: 0px;\n",
       "\t\t}\n",
       "\t\t.drop-down-menu:before {\n",
       "\t\t  content: \"\";\n",
       "\t\t  position: absolute;\n",
       "\t\t  border-color: rgba(194, 225, 245, 0);\n",
       "\t\t  border: solid transparent;\n",
       "\t\t  border-bottom-color: white;\n",
       "\t\t  border-width: 11px;\n",
       "\t\t  margin-left: -10px;\n",
       "\t\t  top: -21px;\n",
       "\t\t  right: 65px;\n",
       "\t\t  z-index: 1;\n",
       "\t\t} \n",
       "\n",
       "\t\t.drop-down-menu:after {\n",
       "\t\t    content: \"\";\n",
       "\t\t    position: absolute;\n",
       "\t\t    right: 66px;\n",
       "\t\t    top: -21px;\n",
       "\t\t    width: 0;\n",
       "\t\t    height: 0;\n",
       "\t\t    border: solid transparent;\n",
       "\t\t    border-width: 10px;\n",
       "\t\t    border-bottom-color: #2B1A41;\n",
       "\t\t    z-index: 0;\n",
       "\t\t}\n",
       "\t</style>\n",
       "\t\n",
       "\t\n",
       "\t\t<title>Joker</title>\n",
       "\t</head>\n",
       "\t<body>\n",
       "\t\tjoker\n",
       "\t\t<div class=\"menu2\">\n",
       "\t\t  <div class=\"menu-item\">\n",
       "\t\t    <span>Menu Item</span>\n",
       "\t\t    <div class=\"drop-down-menu\">\n",
       "\t\t      <p>Sub-item</p>\n",
       "\t\t      <p>Sub-item</p>\n",
       "\t\t      <p>Sub-item</p>\n",
       "\t\t    </div>\n",
       "\t\t  </div>\n",
       "\t\t  \n",
       "\t\t  <div class=\"menu-item\">\n",
       "\t\t    <span>Menu Item 2</span>\n",
       "\t\t  </div>\n",
       "\t\t  \n",
       "\t\t  <div class=\"menu-item\">\n",
       "\t\t    <span>Menu Item 3</span>\n",
       "\t\t    <div class=\"drop-down-menu\">\n",
       "\t\t      <p>Sub-item</p>\n",
       "\t\t      <p>Sub-item</p>\n",
       "\t\t      <p>Sub-item</p>\n",
       "\t\t    </div>\n",
       "\t\t  </div>\n",
       "\t\tnew_contextHello WOrldHello WOrld<!--Y2J--></div>\n",
       "\t\t\n",
       "\t\t<a class=\"linktoindex\" href=\"index.html\"></a>\n",
       "\t\t<div class=\"merodiv\" id=\"my-btn\">\n",
       "\t\t\t<button>Click Me!</button>\n",
       "\t\t</div>\n",
       "\t\t<div class=\"footer\">\n",
       "\t\t\t<button>©</button>\n",
       "\t\t<h1></h1></div>\n",
       "\t\n",
       "\n",
       "</body></html>"
      ]
     },
     "execution_count": 92,
     "metadata": {},
     "output_type": "execute_result"
    }
   ],
   "source": [
    "soup"
   ]
  },
  {
   "cell_type": "code",
   "execution_count": 96,
   "id": "stopped-sympathy",
   "metadata": {},
   "outputs": [],
   "source": [
    "h1tag = soup.h1"
   ]
  },
  {
   "cell_type": "code",
   "execution_count": 97,
   "id": "tropical-ecology",
   "metadata": {},
   "outputs": [],
   "source": [
    "h1tag.insert(1, \"&copy; Rusan Vaidya\")"
   ]
  },
  {
   "cell_type": "code",
   "execution_count": 98,
   "id": "continued-collaboration",
   "metadata": {},
   "outputs": [
    {
     "data": {
      "text/plain": [
       "<h1>&amp;copy; Rusan Vaidya</h1>"
      ]
     },
     "execution_count": 98,
     "metadata": {},
     "output_type": "execute_result"
    }
   ],
   "source": [
    "h1tag"
   ]
  },
  {
   "cell_type": "code",
   "execution_count": 12,
   "id": "documented-colors",
   "metadata": {},
   "outputs": [],
   "source": [
    "x = soup.find(\"div\", {'class': 'footer'})"
   ]
  },
  {
   "cell_type": "code",
   "execution_count": 13,
   "id": "environmental-victorian",
   "metadata": {},
   "outputs": [
    {
     "name": "stdout",
     "output_type": "stream",
     "text": [
      "<div class=\"footer\">\n",
      "\t\t\t<button>©</button>\n",
      "\t\t</div>\n"
     ]
    }
   ],
   "source": [
    "print(x)"
   ]
  },
  {
   "cell_type": "code",
   "execution_count": 15,
   "id": "initial-causing",
   "metadata": {},
   "outputs": [],
   "source": [
    "fb_tag = soup.new_tag(\"a\", href=\"https://www.facebook.com\")"
   ]
  },
  {
   "cell_type": "code",
   "execution_count": 17,
   "id": "heavy-exclusion",
   "metadata": {},
   "outputs": [],
   "source": []
  },
  {
   "cell_type": "code",
   "execution_count": 20,
   "id": "black-circumstances",
   "metadata": {},
   "outputs": [],
   "source": [
    "fb_tag.insert(1, \"Facebook\")"
   ]
  },
  {
   "cell_type": "code",
   "execution_count": 21,
   "id": "rural-charity",
   "metadata": {},
   "outputs": [
    {
     "data": {
      "text/plain": [
       "<a href=\"https://www.facebook.com\">Facebook</a>"
      ]
     },
     "execution_count": 21,
     "metadata": {},
     "output_type": "execute_result"
    }
   ],
   "source": [
    "fb_tag"
   ]
  },
  {
   "cell_type": "code",
   "execution_count": 22,
   "id": "radical-picnic",
   "metadata": {},
   "outputs": [],
   "source": [
    "x.insert(1, fb_tag)"
   ]
  },
  {
   "cell_type": "code",
   "execution_count": 23,
   "id": "athletic-interest",
   "metadata": {},
   "outputs": [
    {
     "data": {
      "text/plain": [
       "<html><head><style>\n",
       "\t\t.menu-item:hover .drop-down-menu{\n",
       "\t\t  display: block;\n",
       "\t\t}\n",
       "\t\t.menu-item{\n",
       "\t\t  cursor: pointer;\n",
       "\t\t  height: 50px;\n",
       "\t\t  display: inline-block;\n",
       "\t\t  position: relative;\n",
       "\t\t}\n",
       "\t\t.menu-item:first-child span{\n",
       "\t\t  border:none;\n",
       "\t\t}\n",
       "\t\t.menu-item span{\n",
       "\t\t  border-left: 1px solid black;\n",
       "\t\t  padding: 0 10px;\n",
       "\t\t}\n",
       "\t\t.drop-down-menu{\n",
       "\t\t  display: none;\n",
       "\t\t  width: 100px;\n",
       "\t\t  position: absolute;\n",
       "\t\t  background: white;\n",
       "\t\t  border: 1px solid #301B46;\n",
       "\t\t  padding: 20px;\n",
       "\t\t  top: 40px;\n",
       "\t\t  left: 0px;\n",
       "\t\t}\n",
       "\t\t.drop-down-menu:before {\n",
       "\t\t  content: \"\";\n",
       "\t\t  position: absolute;\n",
       "\t\t  border-color: rgba(194, 225, 245, 0);\n",
       "\t\t  border: solid transparent;\n",
       "\t\t  border-bottom-color: white;\n",
       "\t\t  border-width: 11px;\n",
       "\t\t  margin-left: -10px;\n",
       "\t\t  top: -21px;\n",
       "\t\t  right: 65px;\n",
       "\t\t  z-index: 1;\n",
       "\t\t} \n",
       "\n",
       "\t\t.drop-down-menu:after {\n",
       "\t\t    content: \"\";\n",
       "\t\t    position: absolute;\n",
       "\t\t    right: 66px;\n",
       "\t\t    top: -21px;\n",
       "\t\t    width: 0;\n",
       "\t\t    height: 0;\n",
       "\t\t    border: solid transparent;\n",
       "\t\t    border-width: 10px;\n",
       "\t\t    border-bottom-color: #2B1A41;\n",
       "\t\t    z-index: 0;\n",
       "\t\t}\n",
       "\t</style>\n",
       "\t\n",
       "\t\n",
       "\t\t<title>Joker</title>\n",
       "\t</head>\n",
       "\t<body>\n",
       "\t\tjoker\n",
       "\t\t<div class=\"menu\">\n",
       "\t\t  <div class=\"menu-item\">\n",
       "\t\t    <span>Menu Item</span>\n",
       "\t\t    <div class=\"drop-down-menu\">\n",
       "\t\t      <p>Sub-item</p>\n",
       "\t\t      <p>Sub-item</p>\n",
       "\t\t      <p>Sub-item</p>\n",
       "\t\t    </div>\n",
       "\t\t  </div>\n",
       "\t\t  \n",
       "\t\t  <div class=\"menu-item\">\n",
       "\t\t    <span>Menu Item 2</span>\n",
       "\t\t  </div>\n",
       "\t\t  \n",
       "\t\t  <div class=\"menu-item\">\n",
       "\t\t    <span>Menu Item 3</span>\n",
       "\t\t    <div class=\"drop-down-menu\">\n",
       "\t\t      <p>Sub-item</p>\n",
       "\t\t      <p>Sub-item</p>\n",
       "\t\t      <p>Sub-item</p>\n",
       "\t\t    </div>\n",
       "\t\t  </div>\n",
       "\t\t</div>\n",
       "\t\t\n",
       "\t\t<a class=\"linktoindex\" href=\"index.html\"></a>\n",
       "\t\t<div class=\"merodiv\" id=\"my-btn\">\n",
       "\t\t\t<button>Click Me!</button>\n",
       "\t\t</div>\n",
       "\t\t<div class=\"footer\">\n",
       "\t\t\t<a href=\"https://www.facebook.com\">Facebook</a><button>©</button>\n",
       "\t\t</div>\n",
       "\t\n",
       "\n",
       "</body></html>"
      ]
     },
     "execution_count": 23,
     "metadata": {},
     "output_type": "execute_result"
    }
   ],
   "source": [
    "soup"
   ]
  },
  {
   "cell_type": "code",
   "execution_count": 3,
   "id": "apart-baseball",
   "metadata": {},
   "outputs": [],
   "source": [
    "x = soup.find(\"div\", {\"class\" : \"menu-item\"})"
   ]
  },
  {
   "cell_type": "code",
   "execution_count": 4,
   "id": "bright-corporation",
   "metadata": {},
   "outputs": [],
   "source": [
    "new = soup.new_tag(\"img\", src=\"myfolder/123.jpg\", alt=\"image\")"
   ]
  },
  {
   "cell_type": "code",
   "execution_count": 5,
   "id": "african-fountain",
   "metadata": {},
   "outputs": [],
   "source": [
    "x.insert(1,new)"
   ]
  },
  {
   "cell_type": "code",
   "execution_count": 6,
   "id": "injured-eagle",
   "metadata": {},
   "outputs": [],
   "source": [
    "new.insert_after(\"Nice try\")"
   ]
  },
  {
   "cell_type": "code",
   "execution_count": 7,
   "id": "allied-blood",
   "metadata": {},
   "outputs": [
    {
     "data": {
      "text/plain": [
       "<html><head><style>\n",
       "\t\t.menu-item:hover .drop-down-menu{\n",
       "\t\t  display: block;\n",
       "\t\t}\n",
       "\t\t.menu-item{\n",
       "\t\t  cursor: pointer;\n",
       "\t\t  height: 50px;\n",
       "\t\t  display: inline-block;\n",
       "\t\t  position: relative;\n",
       "\t\t}\n",
       "\t\t.menu-item:first-child span{\n",
       "\t\t  border:none;\n",
       "\t\t}\n",
       "\t\t.menu-item span{\n",
       "\t\t  border-left: 1px solid black;\n",
       "\t\t  padding: 0 10px;\n",
       "\t\t}\n",
       "\t\t.drop-down-menu{\n",
       "\t\t  display: none;\n",
       "\t\t  width: 100px;\n",
       "\t\t  position: absolute;\n",
       "\t\t  background: white;\n",
       "\t\t  border: 1px solid #301B46;\n",
       "\t\t  padding: 20px;\n",
       "\t\t  top: 40px;\n",
       "\t\t  left: 0px;\n",
       "\t\t}\n",
       "\t\t.drop-down-menu:before {\n",
       "\t\t  content: \"\";\n",
       "\t\t  position: absolute;\n",
       "\t\t  border-color: rgba(194, 225, 245, 0);\n",
       "\t\t  border: solid transparent;\n",
       "\t\t  border-bottom-color: white;\n",
       "\t\t  border-width: 11px;\n",
       "\t\t  margin-left: -10px;\n",
       "\t\t  top: -21px;\n",
       "\t\t  right: 65px;\n",
       "\t\t  z-index: 1;\n",
       "\t\t} \n",
       "\n",
       "\t\t.drop-down-menu:after {\n",
       "\t\t    content: \"\";\n",
       "\t\t    position: absolute;\n",
       "\t\t    right: 66px;\n",
       "\t\t    top: -21px;\n",
       "\t\t    width: 0;\n",
       "\t\t    height: 0;\n",
       "\t\t    border: solid transparent;\n",
       "\t\t    border-width: 10px;\n",
       "\t\t    border-bottom-color: #2B1A41;\n",
       "\t\t    z-index: 0;\n",
       "\t\t}\n",
       "\t</style>\n",
       "\t\n",
       "\t\n",
       "\t\t<title>Joker</title>\n",
       "\t</head>\n",
       "\t<body>\n",
       "\t\tjoker\n",
       "\t\t<div class=\"menu\">\n",
       "\t\t  <div class=\"menu-item\">\n",
       "\t\t    <img alt=\"image\" src=\"myfolder/123.jpg\"/>Nice try<span>Menu Item</span>\n",
       "\t\t    <div class=\"drop-down-menu\">\n",
       "\t\t      <p>Sub-item</p>\n",
       "\t\t      <p>Sub-item</p>\n",
       "\t\t      <p>Sub-item</p>\n",
       "\t\t    </div>\n",
       "\t\t  </div>\n",
       "\t\t  \n",
       "\t\t  <div class=\"menu-item\">\n",
       "\t\t    <span>Menu Item 2</span>\n",
       "\t\t  </div>\n",
       "\t\t  \n",
       "\t\t  <div class=\"menu-item\">\n",
       "\t\t    <span>Menu Item 3</span>\n",
       "\t\t    <div class=\"drop-down-menu\">\n",
       "\t\t      <p>Sub-item</p>\n",
       "\t\t      <p>Sub-item</p>\n",
       "\t\t      <p>Sub-item</p>\n",
       "\t\t    </div>\n",
       "\t\t  </div>\n",
       "\t\t</div>\n",
       "\t\t\n",
       "\t\t<a class=\"linktoindex\" href=\"index.html\"></a>\n",
       "\t\t<div class=\"merodiv\" id=\"my-btn\">\n",
       "\t\t\t<button>Click Me!</button>\n",
       "\t\t</div>\n",
       "\t\t<div class=\"footer\">\n",
       "\t\t\t<button>©</button>\n",
       "\t\t</div>\n",
       "\t\n",
       "\n",
       "</body></html>"
      ]
     },
     "execution_count": 7,
     "metadata": {},
     "output_type": "execute_result"
    }
   ],
   "source": [
    "soup"
   ]
  },
  {
   "cell_type": "code",
   "execution_count": 9,
   "id": "pediatric-nightmare",
   "metadata": {},
   "outputs": [],
   "source": [
    "soup.body.clear()"
   ]
  },
  {
   "cell_type": "code",
   "execution_count": 10,
   "id": "comprehensive-animation",
   "metadata": {},
   "outputs": [
    {
     "data": {
      "text/plain": [
       "<html><head><style>\n",
       "\t\t.menu-item:hover .drop-down-menu{\n",
       "\t\t  display: block;\n",
       "\t\t}\n",
       "\t\t.menu-item{\n",
       "\t\t  cursor: pointer;\n",
       "\t\t  height: 50px;\n",
       "\t\t  display: inline-block;\n",
       "\t\t  position: relative;\n",
       "\t\t}\n",
       "\t\t.menu-item:first-child span{\n",
       "\t\t  border:none;\n",
       "\t\t}\n",
       "\t\t.menu-item span{\n",
       "\t\t  border-left: 1px solid black;\n",
       "\t\t  padding: 0 10px;\n",
       "\t\t}\n",
       "\t\t.drop-down-menu{\n",
       "\t\t  display: none;\n",
       "\t\t  width: 100px;\n",
       "\t\t  position: absolute;\n",
       "\t\t  background: white;\n",
       "\t\t  border: 1px solid #301B46;\n",
       "\t\t  padding: 20px;\n",
       "\t\t  top: 40px;\n",
       "\t\t  left: 0px;\n",
       "\t\t}\n",
       "\t\t.drop-down-menu:before {\n",
       "\t\t  content: \"\";\n",
       "\t\t  position: absolute;\n",
       "\t\t  border-color: rgba(194, 225, 245, 0);\n",
       "\t\t  border: solid transparent;\n",
       "\t\t  border-bottom-color: white;\n",
       "\t\t  border-width: 11px;\n",
       "\t\t  margin-left: -10px;\n",
       "\t\t  top: -21px;\n",
       "\t\t  right: 65px;\n",
       "\t\t  z-index: 1;\n",
       "\t\t} \n",
       "\n",
       "\t\t.drop-down-menu:after {\n",
       "\t\t    content: \"\";\n",
       "\t\t    position: absolute;\n",
       "\t\t    right: 66px;\n",
       "\t\t    top: -21px;\n",
       "\t\t    width: 0;\n",
       "\t\t    height: 0;\n",
       "\t\t    border: solid transparent;\n",
       "\t\t    border-width: 10px;\n",
       "\t\t    border-bottom-color: #2B1A41;\n",
       "\t\t    z-index: 0;\n",
       "\t\t}\n",
       "\t</style>\n",
       "\t\n",
       "\t\n",
       "\t\t<title>Joker</title>\n",
       "\t</head>\n",
       "\t<body></body></html>"
      ]
     },
     "execution_count": 10,
     "metadata": {},
     "output_type": "execute_result"
    }
   ],
   "source": [
    "soup"
   ]
  },
  {
   "cell_type": "code",
   "execution_count": 11,
   "id": "split-virginia",
   "metadata": {},
   "outputs": [],
   "source": [
    "soup.style.clear()"
   ]
  },
  {
   "cell_type": "code",
   "execution_count": 12,
   "id": "acute-occupation",
   "metadata": {},
   "outputs": [
    {
     "data": {
      "text/plain": [
       "<html><head><style></style>\n",
       "\t\n",
       "\t\n",
       "\t\t<title>Joker</title>\n",
       "\t</head>\n",
       "\t<body></body></html>"
      ]
     },
     "execution_count": 12,
     "metadata": {},
     "output_type": "execute_result"
    }
   ],
   "source": [
    "soup"
   ]
  },
  {
   "cell_type": "markdown",
   "id": "successful-analysis",
   "metadata": {},
   "source": [
    "<pre>\n",
    "extract()\n",
    "To remove a tag or strings from the tree, use PageElement.extract().\n",
    "\n",
    "decompose()\n",
    "The tag.decompose() removes a tag from the tree and deletes all its contents.\n",
    "\n",
    "Replace_with()\n",
    "As the name suggests, pageElement.replace_with() function will replace the old tag or string with the new tag or string in the tree −\n",
    "\n",
    "wrap()\n",
    "The pageElement.wrap() enclosed an element in the tag you specify and returns a new wrapper −\n",
    "\n",
    "unwrap()\n",
    "The tag.unwrap() is just opposite to wrap() and replaces a tag with whatever inside that tag.\n",
    "\n",
    "</pre>"
   ]
  },
  {
   "cell_type": "code",
   "execution_count": 24,
   "id": "medical-detection",
   "metadata": {},
   "outputs": [],
   "source": [
    "from bs4 import SoupStrainer\n",
    "parse_only = SoupStrainer(\"style\")\n",
    "soup = BeautifulSoup(open(\"example.html\"), \"html.parser\", parse_only=parse_only)"
   ]
  },
  {
   "cell_type": "code",
   "execution_count": 25,
   "id": "reserved-preference",
   "metadata": {},
   "outputs": [
    {
     "data": {
      "text/plain": [
       "<style>\n",
       "\t\t.menu-item:hover .drop-down-menu{\n",
       "\t\t  display: block;\n",
       "\t\t}\n",
       "\t\t.menu-item{\n",
       "\t\t  cursor: pointer;\n",
       "\t\t  height: 50px;\n",
       "\t\t  display: inline-block;\n",
       "\t\t  position: relative;\n",
       "\t\t}\n",
       "\t\t.menu-item:first-child span{\n",
       "\t\t  border:none;\n",
       "\t\t}\n",
       "\t\t.menu-item span{\n",
       "\t\t  border-left: 1px solid black;\n",
       "\t\t  padding: 0 10px;\n",
       "\t\t}\n",
       "\t\t.drop-down-menu{\n",
       "\t\t  display: none;\n",
       "\t\t  width: 100px;\n",
       "\t\t  position: absolute;\n",
       "\t\t  background: white;\n",
       "\t\t  border: 1px solid #301B46;\n",
       "\t\t  padding: 20px;\n",
       "\t\t  top: 40px;\n",
       "\t\t  left: 0px;\n",
       "\t\t}\n",
       "\t\t.drop-down-menu:before {\n",
       "\t\t  content: \"\";\n",
       "\t\t  position: absolute;\n",
       "\t\t  border-color: rgba(194, 225, 245, 0);\n",
       "\t\t  border: solid transparent;\n",
       "\t\t  border-bottom-color: white;\n",
       "\t\t  border-width: 11px;\n",
       "\t\t  margin-left: -10px;\n",
       "\t\t  top: -21px;\n",
       "\t\t  right: 65px;\n",
       "\t\t  z-index: 1;\n",
       "\t\t} \n",
       "\n",
       "\t\t.drop-down-menu:after {\n",
       "\t\t    content: \"\";\n",
       "\t\t    position: absolute;\n",
       "\t\t    right: 66px;\n",
       "\t\t    top: -21px;\n",
       "\t\t    width: 0;\n",
       "\t\t    height: 0;\n",
       "\t\t    border: solid transparent;\n",
       "\t\t    border-width: 10px;\n",
       "\t\t    border-bottom-color: #2B1A41;\n",
       "\t\t    z-index: 0;\n",
       "\t\t}\n",
       "\t</style>"
      ]
     },
     "execution_count": 25,
     "metadata": {},
     "output_type": "execute_result"
    }
   ],
   "source": [
    "soup"
   ]
  },
  {
   "cell_type": "code",
   "execution_count": null,
   "id": "harmful-numbers",
   "metadata": {},
   "outputs": [],
   "source": []
  }
 ],
 "metadata": {
  "kernelspec": {
   "display_name": "ml_venv",
   "language": "python",
   "name": "ml_venv"
  },
  "language_info": {
   "codemirror_mode": {
    "name": "ipython",
    "version": 3
   },
   "file_extension": ".py",
   "mimetype": "text/x-python",
   "name": "python",
   "nbconvert_exporter": "python",
   "pygments_lexer": "ipython3",
   "version": "3.8.5"
  }
 },
 "nbformat": 4,
 "nbformat_minor": 5
}
